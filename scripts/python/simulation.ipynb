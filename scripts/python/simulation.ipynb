{
 "cells": [
  {
   "cell_type": "code",
   "execution_count": 37,
   "metadata": {
    "collapsed": true
   },
   "outputs": [
    {
     "name": "stdout",
     "output_type": "stream",
     "text": [
      "{1: 1, 2: 1, 3: 1, 4: 1, 5: 1, 6: 1, 7: 1, 8: 1, 9: 2, 10: 2, 11: 2, 12: 2, 13: 2, 14: 2, 15: 2, 16: 2, 17: 3, 18: 3, 19: 3, 20: 3, 21: 3, 22: 3, 23: 3, 24: 3}\n"
     ]
    },
    {
     "name": "stdout",
     "output_type": "stream",
     "text": [
      "49.36463\n"
     ]
    }
   ],
   "source": [
    "data = range(1,25)\n",
    "dict = {}\n",
    "for i in range(1,9):\n",
    "    dict[i] = 1\n",
    "    \n",
    "for i in range(9,17):\n",
    "    dict[i] = 2\n",
    "    \n",
    "import random\n",
    "\n",
    "for i in range(17,25):\n",
    "    dict[i] = 3\n",
    "    \n",
    "\n",
    "print dict\n",
    "n = 0\n",
    "x = 10000000\n",
    "for i in range(x):\n",
    "    random.shuffle(data)\n",
    "    ppl1 = data[0:6]\n",
    "    ppl2 = data[6:12]\n",
    "    ppl3 = data[12:18]\n",
    "    ppl4 = data[18:24]\n",
    "    kind1 = [] \n",
    "    for d in ppl1:\n",
    "        if dict[d] not in kind1:\n",
    "            kind1.append(dict[d])\n",
    "    \n",
    "    kind2 = []\n",
    "    for d in ppl2:\n",
    "        if dict[d] not in kind2:\n",
    "            kind2.append(dict[d])\n",
    "    \n",
    "    kind3 = []\n",
    "    for d in ppl3:\n",
    "        if dict[d] not in kind3:\n",
    "            kind3.append(dict[d])\n",
    "            \n",
    "    kind4 = []\n",
    "    for d in ppl4:\n",
    "        if dict[d] not in kind4:\n",
    "            kind4.append(dict[d])\n",
    "    \n",
    "    if len(kind1)==3 and len(kind2)==3 and len(kind3)==3 and len(kind4)==3:\n",
    "        n += 1\n",
    "print 100.0*n/x\n",
    "        \n",
    "    \n"
   ]
  },
  {
   "cell_type": "code",
   "execution_count": 22,
   "metadata": {},
   "outputs": [
    {
     "name": "stdout",
     "output_type": "stream",
     "text": [
      "527706\n"
     ]
    }
   ],
   "source": [
    "data = [1,2,3,4,5,6,7,8,9,10,11,12,13,14,15]\n",
    "dict = {\n",
    "    1:1,\n",
    "    2:1,\n",
    "    3:1,\n",
    "    4:1,\n",
    "    5:1,\n",
    "    6:1,\n",
    "    7:2,\n",
    "    8:2,\n",
    "    9:2,\n",
    "    10:2,\n",
    "    11:2,\n",
    "    12:3,\n",
    "    13:3,\n",
    "    14:3,\n",
    "    15:3\n",
    "}\n",
    "\n",
    "n = 0\n",
    "for i in range(0,1000000):\n",
    "    random.shuffle(data)\n",
    "    kind = []\n",
    "    for j in range(0,4):\n",
    "        k = dict[data[j]]\n",
    "        if k not in kind:\n",
    "            kind.append(k)\n",
    "    if len(kind)==3:\n",
    "        n+=1\n",
    "print n"
   ]
  },
  {
   "cell_type": "code",
   "execution_count": null,
   "metadata": {},
   "outputs": [],
   "source": []
  }
 ],
 "metadata": {
  "kernelspec": {
   "display_name": "Python 2",
   "language": "python",
   "name": "python2"
  },
  "language_info": {
   "codemirror_mode": {
    "name": "ipython",
    "version": 2
   },
   "file_extension": ".py",
   "mimetype": "text/x-python",
   "name": "python",
   "nbconvert_exporter": "python",
   "pygments_lexer": "ipython2",
   "version": "2.7.6"
  }
 },
 "nbformat": 4,
 "nbformat_minor": 0
}
