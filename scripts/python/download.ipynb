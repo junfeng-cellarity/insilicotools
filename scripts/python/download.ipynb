{
 "cells": [
  {
   "cell_type": "code",
   "execution_count": 1,
   "metadata": {
    "collapsed": true
   },
   "outputs": [
    {
     "name": "stdout",
     "output_type": "stream",
     "text": [
      "OK\n"
     ]
    }
   ],
   "source": [
    "import requests\n",
    "\n",
    "# r = requests.get(\"http://www.enamine.net/download/download.php?f=2\")\n",
    "url = \"http://www.enamine.net/index.php?option=com_content&task=view&id=10&auth=0\"\n",
    "session = requests.Session()\n",
    "response = session.post(url,data={\"login\":\"jfeng1\",\"password\":\"Beard301\"})\n",
    "response2 = session.get(\"http://www.enamine.net/download/download.php?f=2\")\n",
    "print \"OK\"\n",
    "#r = requests.get(\"http://www.enamine.net/download/download.php?f=2\",auth=('jfeng1', 'Beard301'))"
   ]
  },
  {
   "cell_type": "code",
   "execution_count": 2,
   "metadata": {},
   "outputs": [
    {
     "name": "stdout",
     "output_type": "stream",
     "text": [
      "OK2\n"
     ]
    }
   ],
   "source": [
    "open(\"/Users/jfeng1/Enamine.zip\",\"wb\").write(response2.content)\n",
    "print \"OK2\""
   ]
  },
  {
   "cell_type": "code",
   "execution_count": 40,
   "metadata": {},
   "outputs": [
    {
     "name": "stdout",
     "output_type": "stream",
     "text": [
      "{'__EVENTARGUMENT': '', '__LASTFOCUS': '', '__VIEWSTATE': u'/wEPDwUJMzAyNTUyODI3D2QWAgIDD2QWAgIDDzwrAAoBAA8WAh4NUmVtZW1iZXJNZVNldGhkFgJmD2QWAgINDxAPFgIeB0NoZWNrZWRoZGRkZBgBBR5fX0NvbnRyb2xzUmVxdWlyZVBvc3RCYWNrS2V5X18WAQURTG9naW4xJFJlbWVtYmVyTWWYt8xdKYjHz620peWO/qFO9UFDjA==', '__VIEWSTATEGENERATOR': u'6424016A', 'Login1$UserName': 'jfeng', 'Login1$LoginButton': 'Log In', 'Login1$Password': 'temp123', '__EVENTVALIDATION': u'/wEWBQLU36vdDAKUvNa1DwL666vYDAKC0q+kBgKnz4ybCNumPhAFnmFvl3D4HZfkcvsuh5NB', '__EVENTTARGET': ''}\n"
     ]
    },
    {
     "name": "stdout",
     "output_type": "stream",
     "text": [
      "{'__EVENTARGUMENT': '', '__EVENTVALIDATION': u'/wEWBAL26vfgBQKvn+e1CgLepbnyCgLa1brEBrxbVqpx+3qxVJmLTlxu16XDZ0nz', '__VIEWSTATE': u'/wEPDwUKMjA0NTc2NzgxMg9kFgJmD2QWAgIDD2QWCgIDDxYCHgRUZXh0BQhKdW4gRmVuZ2QCBQ8WAh8ABQEwZAIHDxYCHwAFATBkAgkPFgIfAAUBMGQCCw8WAh8ABQUkMC4wMGRk14fEVjL6zgyKHyf5a6RxuacFkao=', '__EVENTTARGET': 'ctl00$ContentPlaceHolder1$RI_Download', '__VIEWSTATEGENERATOR': u'BB01EB06'}\n"
     ]
    }
   ],
   "source": [
    "from bs4 import BeautifulSoup\n",
    "login_url = \"https://orders.frontierssi.com/FSSIOnline32/Login.aspx\"\n",
    "download_url = \"https://orders.frontierssi.com/FSSIOnline32/Downloads.aspx\"\n",
    "session = requests.Session()\n",
    "headers={\"User-Agent\":\"Mozilla/5.0 (Macintosh; Intel Mac OS X 10_10_5) AppleWebKit/537.36 (KHTML, like Gecko) Chrome/55.0.2883.95 Safari/537.36\"}\n",
    "\n",
    "username = \"jfeng\"\n",
    "password = \"temp123\"\n",
    "\n",
    "#session.headers.update(headers)\n",
    "response1 = session.post(login_url)\n",
    "soup=BeautifulSoup(response1.content)\n",
    "\n",
    "VIEWSTATE=soup.find(id=\"__VIEWSTATE\")['value']\n",
    "VIEWSTATEGENERATOR=soup.find(id=\"__VIEWSTATEGENERATOR\")['value']\n",
    "EVENTVALIDATION=soup.find(id=\"__EVENTVALIDATION\")['value']\n",
    "\n",
    "login_data={\"__LASTFOCUS\":\"\",\n",
    "            \"__EVENTTARGET\":\"\",\n",
    "            \"__EVENTARGUMENT\":\"\",\n",
    "            \"__VIEWSTATE\":VIEWSTATE,\n",
    "            \"__VIEWSTATEGENERATOR\":VIEWSTATEGENERATOR,\n",
    "            \"__EVENTVALIDATION\":EVENTVALIDATION,\n",
    "            \"Login1$UserName\":username,\n",
    "            \"Login1$Password\":password,\n",
    "            \"Login1$LoginButton\":\"Log In\"}\n",
    "\n",
    "print login_data\n",
    "\n",
    "session.post(login_url, data=login_data)\n",
    "\n",
    "response2 = session.post(download_url)\n",
    "soup=BeautifulSoup(response2.content)\n",
    "VIEWSTATE=soup.find(id=\"__VIEWSTATE\")['value']\n",
    "VIEWSTATEGENERATOR=soup.find(id=\"__VIEWSTATEGENERATOR\")['value']\n",
    "EVENTVALIDATION=soup.find(id=\"__EVENTVALIDATION\")['value']\n",
    "\n",
    "\n",
    "download_data={\n",
    "            \"__EVENTTARGET\":\"ctl00$ContentPlaceHolder1$RI_Download\",\n",
    "            \"__EVENTARGUMENT\":\"\",\n",
    "            \"__VIEWSTATE\":VIEWSTATE,\n",
    "            \"__VIEWSTATEGENERATOR\":VIEWSTATEGENERATOR,\n",
    "            \"__EVENTVALIDATION\":EVENTVALIDATION\n",
    "            }\n",
    "\n",
    "print download_data\n",
    "\n",
    "response3 = session.post(download_url,data=download_data)\n",
    "# Login1$UserName:jfeng\n",
    "# Login1$Password:temp123\n",
    "# Login1$LoginButton:Log In\n",
    "\n",
    "# __LASTFOCUS:\n",
    "# __EVENTTARGET:\n",
    "# __EVENTARGUMENT:\n",
    "\n",
    "# __EVENTTARGET:ctl00$ContentPlaceHolder1$RI_Download\n",
    "# __EVENTARGUMENT:\n",
    "# __VIEWSTATE:/wEPDwUKMjA0NTc2NzgxMg9kFgJmD2QWAgIDD2QWCgIDDxYCHgRUZXh0BQhKdW4gRmVuZ2QCBQ8WAh8ABQEwZAIHDxYCHwAFATBkAgkPFgIfAAUBMGQCCw8WAh8ABQUkMC4wMGRk14fEVjL6zgyKHyf5a6RxuacFkao=\n",
    "# __VIEWSTATEGENERATOR:BB01EB06\n",
    "# __EVENTVALIDATION:/wEWBAL26vfgBQKvn+e1CgLepbnyCgLa1brEBrxbVqpx+3qxVJmLTlxu16XDZ0nz"
   ]
  },
  {
   "cell_type": "code",
   "execution_count": 42,
   "metadata": {},
   "outputs": [],
   "source": [
    "open(\"/Users/jfeng1/frontier.sdf\",\"w\").write(response3.content)"
   ]
  },
  {
   "cell_type": "code",
   "execution_count": 53,
   "metadata": {},
   "outputs": [
    {
     "name": "stdout",
     "output_type": "stream",
     "text": [
      "{'Content-Disposition': 'attachment;filename=FullInventoryFile_BIOGEN.csv', 'Transfer-Encoding': 'chunked', 'Server': 'Apache-Coyote/1.1', 'Connection': 'close', 'Date': 'Wed, 25 Jan 2017 18:08:56 GMT', 'Content-Type': 'application/vnd.ms-excel'}\n"
     ]
    }
   ],
   "source": [
    "evotec_download_url = \"https://cmct.evotec.com/EvotecCM/fullInventoryDownload.action\"\n",
    "evotec_login_url = \"https://cmct.evotec.com/EvotecCM/loginAction.action\"\n",
    "session = requests.Session()\n",
    "session.post(evotec_login_url,data={\"username\":\"jun.feng@biogen.com\",\"password\":\"Beard301\",\"buttonName\":\"Log In\"})\n",
    "response = session.get(evotec_download_url)\n",
    "print response.headers\n",
    "open(\"/Users/jfeng1/evotec.csv\",\"w\").write(response.content)"
   ]
  },
  {
   "cell_type": "code",
   "execution_count": 57,
   "metadata": {},
   "outputs": [
    {
     "name": "stdout",
     "output_type": "stream",
     "text": [
      "Index([u'Customer', u'Batch Id', u'Labware Barcode', u'Labware Type',\n       u'Available Amount', u'Available Amount Unit', u'Concentration',\n       u'Conc. Unit', u'SetFolderName'],\n      dtype='object')\n"
     ]
    }
   ],
   "source": [
    "import pandas as pd\n",
    "df = pd.read_csv(\"/Users/jfeng1/evotec.csv\")\n",
    "print df.columns"
   ]
  },
  {
   "cell_type": "code",
   "execution_count": null,
   "metadata": {},
   "outputs": [],
   "source": [
    ""
   ]
  },
  {
   "cell_type": "code",
   "execution_count": null,
   "metadata": {},
   "outputs": [],
   "source": [
    ""
   ]
  },
  {
   "cell_type": "code",
   "execution_count": null,
   "metadata": {},
   "outputs": [],
   "source": [
    ""
   ]
  },
  {
   "cell_type": "code",
   "execution_count": null,
   "metadata": {},
   "outputs": [],
   "source": [
    ""
   ]
  },
  {
   "cell_type": "code",
   "execution_count": null,
   "metadata": {},
   "outputs": [],
   "source": [
    ""
   ]
  }
 ],
 "metadata": {
  "kernelspec": {
   "display_name": "Python 2",
   "language": "python",
   "name": "python2"
  },
  "language_info": {
   "codemirror_mode": {
    "name": "ipython",
    "version": 2.0
   },
   "file_extension": ".py",
   "mimetype": "text/x-python",
   "name": "python",
   "nbconvert_exporter": "python",
   "pygments_lexer": "ipython2",
   "version": "2.7.6"
  }
 },
 "nbformat": 4,
 "nbformat_minor": 0
}