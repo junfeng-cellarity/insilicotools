{
 "cells": [
  {
   "cell_type": "code",
   "execution_count": 9,
   "metadata": {
    "collapsed": true
   },
   "outputs": [],
   "source": [
    "from openeye.oechem import *\n",
    "molfile = \"/Users/jfeng1/ph4.sdf\"\n",
    "ifs = oemolistream()\n",
    "ifs.open(molfile)\n",
    "molDict = {}\n",
    "mol = OEGraphMol()\n",
    "while OEReadMolecule(ifs,mol):\n",
    "    name = mol.GetTitle()\n",
    "    if not molDict.has_key(name):\n",
    "        molDict[name] = []\n",
    "    molDict[name].append(OEGraphMol(mol))\n",
    "outputfile = \"/Users/jfeng1/ph4_uniq.sdf\"\n",
    "ofs = oemolostream()\n",
    "ofs.open(outputfile)\n",
    "for key in molDict.keys():\n",
    "    molList = molDict[key]\n",
    "#    if len(molList)>1:\n",
    "#        sorted(molList,key=lambda mol:float(OEGetSDData(mol,\"r_phase_PhaseScreenScore\")))\n",
    "    OEWriteMolecule(ofs,molList[0])\n",
    "ofs.close()\n",
    "        \n",
    "ifs.close()"
   ]
  },
  {
   "cell_type": "code",
   "execution_count": 5,
   "metadata": {},
   "outputs": [],
   "source": []
  },
  {
   "cell_type": "code",
   "execution_count": null,
   "metadata": {},
   "outputs": [],
   "source": []
  }
 ],
 "metadata": {
  "kernelspec": {
   "display_name": "Python 2",
   "language": "python",
   "name": "python2"
  },
  "language_info": {
   "codemirror_mode": {
    "name": "ipython",
    "version": 2
   },
   "file_extension": ".py",
   "mimetype": "text/x-python",
   "name": "python",
   "nbconvert_exporter": "python",
   "pygments_lexer": "ipython2",
   "version": "2.7.6"
  }
 },
 "nbformat": 4,
 "nbformat_minor": 0
}
