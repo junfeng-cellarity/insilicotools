{
 "cells": [
  {
   "cell_type": "code",
   "execution_count": 7,
   "metadata": {
    "collapsed": true
   },
   "outputs": [
    {
     "name": "stdout",
     "output_type": "stream",
     "text": [
      "32\n27\n27\n['ChemAxon LogD', 'CLogP', 'ChemAxon Acidic pKa', 'hydrogen-bond acceptors', 'hydrogen-bond donors', 'VolSurf_WO1', 'VolSurf_%FU5', 'VolSurf_%FU7', 'VolSurf_LgBB', 'VolSurf_LOGP c-Hex', 'VolSurf_DD1', 'VolSurf_CD8', 'VolSurf_L4LgS', 'VolSurf_D2', 'VolSurf_ID1', 'VolSurf_DRDODO', 'VolSurf_ID2', 'VolSurf_ID4', 'VolSurf_LgS10', 'VolSurf_LgD7', 'VolSurf_CW5', 'VolSurf_NCC', 'VolSurf_A', 'VolSurf_R', 'VolSurf_FLEX_RB', 'VolSurf_LgD10', 'VolSurf_DODODO', '2d PSA', 'ChemAxon Basic pKa', 'VolSurf_W7', 'VolSurf_WN6', 'VolSurf_CW8', 'VolSurf_%FU10', 'VolSurf_DD4', 'VolSurf_DD2', 'VolSurf_DD3', 'VolSurf_CD7', 'VolSurf_WO6', 'VolSurf_DD6', 'VolSurf_LOGP n-Oct', 'VolSurf_IW4', 'VolSurf_POL', 'VolSurf_D5', 'VolSurf_D4', 'VolSurf_D3', 'VolSurf_CP', 'VolSurf_D1', 'VolSurf_ID3', 'VolSurf_D8', 'VolSurf_SKIN', 'VolSurf_AUS7.4', 'VolSurf_LgS7', 'VolSurf_LgS6', 'VolSurf_LgS3', 'VolSurf_ACACAC', 'VolSurf_PHSAR', 'VolSurf_DRACDO', 'VolSurf_PSAR', 'VolSurf_WN3', 'VolSurf_WO2', 'VolSurf_WO3', 'VolSurf_CW7', 'VolSurf_PSA', 'VolSurf_%FU4', 'VolSurf_DD5', 'VolSurf_IW2', 'VolSurf_CD5', 'VolSurf_DRDRDR', 'VolSurf_W6', 'VolSurf_W3', 'VolSurf_W4', 'VolSurf_W2', 'VolSurf_D7', 'VolSurf_LgS11', 'VolSurf_LgD5', 'VolSurf_LgD6', 'VolSurf_V', 'VolSurf_LgS9', 'VolSurf_LgS8', 'VolSurf_ACDODO', 'VolSurf_LgS5', 'VolSurf_LgS7.5', 'VolSurf_CW4', 'VolSurf_CW3', 'VolSurf_SOLY', 'VolSurf_WN1']\n"
     ]
    }
   ],
   "source": [
    "# SVR GA selected #1\n",
    "descriptor_names_1 = ['2d PSA', 'ChemAxon LogD', 'CLogP', 'ChemAxon Acidic pKa', 'ChemAxon Basic pKa', 'hydrogen-bond acceptors', 'hydrogen-bond donors', 'VolSurf_W7', 'VolSurf_WO1', 'VolSurf_WN6', 'VolSurf_CW8', 'VolSurf_%FU5', 'VolSurf_%FU7', 'VolSurf_%FU10', 'VolSurf_LgBB', 'VolSurf_LOGP c-Hex', 'VolSurf_DD4', 'VolSurf_DD2', 'VolSurf_DD3', 'VolSurf_DD1', 'VolSurf_CD7', 'VolSurf_CD8', 'VolSurf_WO6', 'VolSurf_DD6', 'VolSurf_LOGP n-Oct', 'VolSurf_IW4', 'VolSurf_L4LgS', 'VolSurf_POL', 'VolSurf_D5', 'VolSurf_D4', 'VolSurf_D3', 'VolSurf_D2', 'VolSurf_CP', 'VolSurf_D1', 'VolSurf_ID1', 'VolSurf_DRDODO', 'VolSurf_ID2', 'VolSurf_ID3', 'VolSurf_ID4', 'VolSurf_D8', 'VolSurf_LgS10', 'VolSurf_LgD7', 'VolSurf_SKIN', 'VolSurf_AUS7.4', 'VolSurf_LgS7', 'VolSurf_LgS6', 'VolSurf_LgS3', 'VolSurf_ACACAC', 'VolSurf_PHSAR', 'VolSurf_CW5', 'VolSurf_NCC', 'VolSurf_A', 'VolSurf_R', 'VolSurf_DRACDO', 'VolSurf_FLEX_RB', 'VolSurf_LgD10', 'VolSurf_PSAR', 'VolSurf_DODODO', 'VolSurf_WN3']\n",
    "\n",
    "# SVR GA selected #2\n",
    "descriptor_names_2 = ['ChemAxon LogD', 'CLogP', 'ChemAxon Acidic pKa', 'hydrogen-bond acceptors', 'hydrogen-bond donors', 'VolSurf_WO1', 'VolSurf_WO2', 'VolSurf_WO3', 'VolSurf_CW7', 'VolSurf_PSA', 'VolSurf_%FU4', 'VolSurf_%FU5', 'VolSurf_%FU7', 'VolSurf_LgBB', 'VolSurf_LOGP c-Hex', 'VolSurf_DD5', 'VolSurf_DD1', 'VolSurf_CD8', 'VolSurf_IW2', 'VolSurf_CD5', 'VolSurf_DRDRDR', 'VolSurf_W6', 'VolSurf_W3', 'VolSurf_W4', 'VolSurf_W2', 'VolSurf_L4LgS', 'VolSurf_D2', 'VolSurf_ID1', 'VolSurf_DRDODO', 'VolSurf_ID2', 'VolSurf_ID4', 'VolSurf_D7', 'VolSurf_LgS10', 'VolSurf_LgS11', 'VolSurf_LgD7', 'VolSurf_LgD5', 'VolSurf_LgD6', 'VolSurf_V', 'VolSurf_LgS9', 'VolSurf_LgS8', 'VolSurf_ACDODO', 'VolSurf_LgS5', 'VolSurf_LgS7.5', 'VolSurf_CW4', 'VolSurf_CW5', 'VolSurf_CW3', 'VolSurf_NCC', 'VolSurf_A', 'VolSurf_R', 'VolSurf_FLEX_RB', 'VolSurf_LgD10', 'VolSurf_SOLY', 'VolSurf_DODODO', 'VolSurf_WN1']\n",
    "\n",
    "\n",
    "common = []\n",
    "uniq_1 = []\n",
    "for name1 in descriptor_names_1:\n",
    "    if name1 not in descriptor_names_2:\n",
    "        uniq_1.append(name1)\n",
    "    else:\n",
    "        common.append(name1)\n",
    "print len(uniq_1)   \n",
    "\n",
    "uniq_2 = []\n",
    "for name2 in descriptor_names_2:\n",
    "    if name2 not in descriptor_names_1:\n",
    "        uniq_2.append(name2)\n",
    "print len(uniq_2)\n",
    "\n",
    "print len(common)\n",
    "\n",
    "print common+uniq_1+uniq_2\n",
    "\n",
    "\n"
   ]
  },
  {
   "cell_type": "code",
   "execution_count": null,
   "metadata": {},
   "outputs": [],
   "source": []
  }
 ],
 "metadata": {
  "kernelspec": {
   "display_name": "Python 2",
   "language": "python",
   "name": "python2"
  },
  "language_info": {
   "codemirror_mode": {
    "name": "ipython",
    "version": 2
   },
   "file_extension": ".py",
   "mimetype": "text/x-python",
   "name": "python",
   "nbconvert_exporter": "python",
   "pygments_lexer": "ipython2",
   "version": "2.7.6"
  }
 },
 "nbformat": 4,
 "nbformat_minor": 0
}
