{
 "cells": [
  {
   "cell_type": "code",
   "execution_count": 19,
   "metadata": {
    "collapsed": true
   },
   "outputs": [],
   "source": [
    "# -n, --name <name>                                     name for your comparison (e.x. Carl_Benzene_IHB)\n",
    "#     -p, --probe <probe_molecule>                          probe molecule specified in SMILES notation\n",
    "#     -t, --target <target_molecule>                        target molecule specified in SMILES notation\n",
    "#     -f, --target-file <target_molecules_file>             file with list of molecules to compare against, specified in SMILES notation\n",
    "#     -a, --all                                             run against all molecules in the database\n",
    "#     -i, --iterations <n>                                  run a comparison <n> times, useful when using the MAX storage strategy\n",
    "#     --criteria-file <criteria_file>                       json file with criteria parameters to use\n",
    "#     -c, --criteria <criteria>                             json object with criteria parameters to use\n",
    "#     --atom-atomic-number <importance>                     importance between 0 and 1\n",
    "#     --atom-atomic-number-critical <true|false>            indicates that this is a critical property (required to match for a node to match)\n",
    "#     --atom-degree <importance>                            importance between 0 and 1\n",
    "#     --atom-degree-critical <true|false>                   indicates that this is a critical property (required to match for a node to match)\n",
    "#     --atom-implicit-hydrogen-bonds <importance>           importance between 0 and 1\n",
    "#     --atom-implicit-hydrogen-bonds-critical <true|false>  indicates that this is a critical property (required to match for a node to match)\n",
    "#     --atom-bond-orders <importance>                       importance between 0 and 1\n",
    "#     --atom-bond-orders-critical <true|false>              indicates that this is a critical property (required to match for a node to match)\n",
    "#     --atom-formal-charge <importance>                     importance between 0 and 1\n",
    "#     --atom-formal-charge-critical <true|false>            indicates that this is a critical property (required to match for a node to match)\n",
    "#     --atom-acceptor <importance>                          importance between 0 and 1\n",
    "#     --atom-acceptor-critical <true|false>                 indicates that this is a critical property (required to match for a node to match)\n",
    "#     --atom-donor <importance>                             importance between 0 and 1\n",
    "#     --atom-donor-critical <true|false>                    indicates that this is a critical property (required to match for a node to match)\n",
    "#     --atom-posionizable <importance>                      importance between 0 and 1\n",
    "#     --atom-posionizable-critical <true|false>             indicates that this is a critical property (required to match for a node to match)\n",
    "#     --atom-negionizable <importance>                      importance between 0 and 1\n",
    "#     --atom-negionizable-critical <true|false>             indicates that this is a critical property (required to match for a node to match)\n",
    "#     --ring-hash <importance>                              importance between 0 and 1\n",
    "#     --ring-hash-critical <true|false>                     indicates that this is a critical property (required to match for a node to match)\n",
    "#     --ring-implicit-hydrogen-bonds <importance>           importance between 0 and 1\n",
    "#     --ring-implicit-hydrogen-bonds-critical <true|false>  indicates that this is a critical property (required to match for a node to match)\n",
    "#     --ring-degree <importance>                            importance between 0 and 1\n",
    "#     --ring-degree-critical <true|false>                   indicates that this is a critical property (required to match for a node to match)\n",
    "#     --ring-bond-orders <importance>                       importance between 0 and 1\n",
    "#     --ring-bond-orders-critical <true|false>              indicates that this is a critical property (required to match for a node to match)\n",
    "#     --ring-acceptor <importance>                          importance between 0 and 1\n",
    "#     --ring-acceptor-critical <true|false>                 indicates that this is a critical property (required to match for a node to match)\n",
    "#     --ring-donor <importance>                             importance between 0 and 1\n",
    "#     --ring-donor-critical <true|false>                    indicates that this is a critical property (required to match for a node to match)\n",
    "#     --ring-posionizable <importance>                      importance between 0 and 1\n",
    "#     --ring-posionizable-critical <true|false>             indicates that this is a critical property (required to match for a node to match)\n",
    "#     --ring-negionizable <importance>                      importance between 0 and 1\n",
    "#     --ring-negionizable-critical <true|false>             indicates that this is a critical property (required to match for a node to match)\n",
    "#     --bond-type <true|false>                              use bond type as critera for matching\n",
    "#         --general-distance <true|false>                       use distance as critera for matching\n",
    "#         --general-distance-tolerance <tolerance>              distance tolerance to use\n",
    "#     --ring-hash-hash-bonds <true|false>                   controls whether ring bonds are compared in the hash\n",
    "#     --ring-hash-hash-atoms <true|false>                   controls whether ring atoms are compared in the hash"
   ]
  },
  {
   "cell_type": "code",
   "execution_count": 81,
   "metadata": {
    "collapsed": true
   },
   "outputs": [
    {
     "name": "stdout",
     "output_type": "stream",
     "text": [
      "molcomp_cli run -p \"c1ccc2c(c1)-c3ccccc3C2[NH+]4CCN(CC4)C(=O)c5ccc6c(c5)cc[nH]6\" -f /Users/jfeng1/Datasets/QuantumComputing/poc2/actives.smi --atom-posionizable-critical true --atom-donor-critical true --general-distance false --atom-acceptor-critical true --atom-implicit-hydrogen-bonds-critical false --atom-negionizable-critical true --atom-atomic-number-critical true --atom-degree-critical false --atom-formal-charge-critical false\n"
     ]
    },
    {
     "name": "stdout",
     "output_type": "stream",
     "text": [
      "('{\"result\":{\"compare_progress\":57,\"results\":[{\"similarity\":1,\"shared_traits\":{\"atom\":{\"bond_orders\":4,\"degree\":4,\"formal_charge\":4,\"implicit_h\":4},\"ring\":{\"bond_orders\":6,\"degree\":6,\"hash\":6,\"implicit_h\":6}},\"target\":\"c1ccc2c(c1)-c3ccccc3C2[NH+]4CCN(CC4)C(=O)c5ccc6c(c5)cc[nH]6\",\"can_use_quantum\":true,\"count\":1},{\"similarity\":0.82482994,\"shared_traits\":{\"atom\":{\"bond_orders\":4,\"degree\":4,\"formal_charge\":4,\"implicit_h\":4},\"ring\":{\"bond_orders\":3,\"degree\":5,\"hash\":5,\"implicit_h\":3}},\"target\":\"c1ccc(cc1)C(c2ccccc2)[NH+]3CCN(CC3)C(=O)c4ccc5c(c4)cc[nH]5\",\"can_use_quantum\":true,\"count\":1},{\"similarity\":0.81805557,\"shared_traits\":{\"atom\":{\"bond_orders\":4,\"degree\":4,\"formal_charge\":4,\"implicit_h\":4},\"ring\":{\"bond_orders\":3,\"degree\":4,\"hash\":4,\"implicit_h\":3}},\"target\":\"c1ccc(cc1)C[NH+]2CCN(CC2)C(=O)c3ccc4c(c3)cc[nH]4\",\"can_use_quantum\":true,\"count\":1},{\"similarity\":0.765625,\"shared_traits\":{\"atom\":{\"bond_orders\":4,\"degree\":4,\"formal_charge\":4,\"implicit_h\":4},\"ring\":{\"bond_orders\":4,\"degree\":4,\"hash\":6,\"implicit_h\":4}},\"target\":\"COc1ccc-2c(c1)[C@H](c3c2cccc3)[NH+]4CCN(CC4)C(=O)c5ccc6c(c5)cc[nH]6\",\"can_use_quantum\":true,\"count\":1},{\"similarity\":0.765625,\"shared_traits\":{\"atom\":{\"bond_orders\":4,\"degree\":4,\"formal_charge\":4,\"implicit_h\":4},\"ring\":{\"bond_orders\":4,\"degree\":4,\"hash\":6,\"implicit_h\":4}},\"target\":\"COc1cccc2c1-c3ccccc3[C@@H]2[NH+]4CCN(CC4)C(=O)c5ccc6c(c5)cc[nH]6\",\"can_use_quantum\":true,\"count\":1},{\"similarity\":0.7554167,\"shared_traits\":{\"atom\":{\"bond_orders\":4,\"degree\":4,\"formal_charge\":4,\"implicit_h\":4},\"ring\":{\"bond_orders\":3,\"degree\":3,\"hash\":4,\"implicit_h\":3}},\"target\":\"c1cc2c(cc1C[NH+]3CCN(CC3)C(=O)c4ccc5c(c4)cc[nH]5)OCO2\",\"can_use_quantum\":true,\"count\":1},{\"similarity\":0.7463235,\"shared_traits\":{\"atom\":{\"bond_orders\":4,\"degree\":4,\"formal_charge\":4,\"implicit_h\":4},\"ring\":{\"bond_orders\":4,\"degree\":4,\"hash\":6,\"implicit_h\":4}},\"target\":\"CN(C)c1ccc-2c(c1)[C@H](c3c2cccc3)[NH+]4CCN(CC4)C(=O)c5ccc6c(c5)cc[nH]6\",\"can_use_quantum\":true,\"count\":1},{\"similarity\":0.7463235,\"shared_traits\":{\"atom\":{\"bond_orders\":4,\"degree\":4,\"formal_charge\":4,\"implicit_h\":4},\"ring\":{\"bond_orders\":4,\"degree\":4,\"hash\":6,\"implicit_h\":4}},\"target\":\"c1ccc2c(c1)-c3ccc(cc3[C@H]2[NH+]4CCN(CC4)C(=O)c5ccc6c(c5)cc[nH]6)[N+](=O)[O-]\",\"can_use_quantum\":true,\"count\":1},{\"similarity\":0.7463235,\"shared_traits\":{\"atom\":{\"bond_orders\":4,\"degree\":4,\"formal_charge\":4,\"implicit_h\":4},\"ring\":{\"bond_orders\":4,\"degree\":4,\"hash\":6,\"implicit_h\":4}},\"target\":\"c1ccc2c(c1)-c3cc(ccc3[C@@H]2[NH+]4CCN(CC4)C(=O)c5ccc6c(c5)cc[nH]6)[N+](=O)[O-]\",\"can_use_quantum\":true,\"count\":1},{\"similarity\":0.7375,\"shared_traits\":{\"atom\":{\"bond_orders\":4,\"degree\":4,\"formal_charge\":4,\"implicit_h\":4},\"ring\":{\"bond_orders\":4,\"degree\":4,\"hash\":6,\"implicit_h\":4}},\"target\":\"c1ccc2c(c1)-c3ccc(cc3[C@H]2[NH+]4CCN(CC4)C(=O)c5ccc6c(c5)cc[nH]6)NC=O\",\"can_use_quantum\":true,\"count\":1},{\"similarity\":0.72855395,\"shared_traits\":{\"atom\":{\"bond_orders\":3,\"degree\":3,\"formal_charge\":3,\"implicit_h\":3},\"ring\":{\"bond_orders\":3,\"degree\":3,\"hash\":3,\"implicit_h\":3}},\"target\":\"c1ccc2c(c1)ccc(n2)C(=O)c3ccc4c(c3)cc[nH]4\",\"can_use_quantum\":true,\"count\":1},{\"similarity\":0.72855395,\"shared_traits\":{\"atom\":{\"bond_orders\":3,\"degree\":3,\"formal_charge\":3,\"implicit_h\":3},\"ring\":{\"bond_orders\":3,\"degree\":3,\"hash\":3,\"implicit_h\":3}},\"target\":\"c1ccc2c(c1)CCN(C2)C(=O)c3ccc4c(c3)cc[nH]4\",\"can_use_quantum\":true,\"count\":1},{\"similarity\":0.70343137,\"shared_traits\":{\"atom\":{\"bond_orders\":3,\"degree\":3,\"formal_charge\":3,\"implicit_h\":3},\"ring\":{\"bond_orders\":2,\"degree\":2,\"hash\":3,\"implicit_h\":3}},\"target\":\"c1ccc(cc1)N2CCN(CC2)C(=O)c3ccc4c(c3)cc[nH]4\",\"can_use_quantum\":true,\"count\":1},{\"similarity\":0.6770833,\"shared_traits\":{\"atom\":{\"bond_orders\":3,\"degree\":3,\"formal_charge\":3,\"implicit_h\":3},\"ring\":{\"bond_orders\":2,\"degree\":2,\"hash\":2,\"implicit_h\":2}},\"target\":\"c1cc(cnc1)C(=O)c2ccc3c(c2)cc[nH]3\",\"can_use_quantum\":true,\"count\":1},{\"similarity\":0.650641,\"shared_traits\":{\"atom\":{\"bond_orders\":3,\"degree\":3,\"formal_charge\":3,\"implicit_h\":3},\"ring\":{\"bond_orders\":2,\"degree\":2,\"hash\":3,\"implicit_h\":3}},\"target\":\"c1cc(cc(c1)Cl)N2CCN(CC2)C(=O)c3ccc4c(c3)cc[nH]4\",\"can_use_quantum\":true,\"count\":1},{\"similarity\":0.650641,\"shared_traits\":{\"atom\":{\"bond_orders\":3,\"degree\":3,\"formal_charge\":3,\"implicit_h\":3},\"ring\":{\"bond_orders\":2,\"degree\":2,\"hash\":3,\"implicit_h\":3}},\"target\":\"c1cc(ccc1N2CCN(CC2)C(=O)c3ccc4c(c3)cc[nH]4)Cl\",\"can_use_quantum\":true,\"count\":1},{\"similarity\":0.64166665,\"shared_traits\":{\"atom\":{\"bond_orders\":3,\"degree\":3,\"formal_charge\":3,\"implicit_h\":3},\"ring\":{\"bond_orders\":2,\"degree\":2,\"hash\":3,\"implicit_h\":3}},\"target\":\"c1cc(ccc1N2CCN(CC2)C(=O)c3ccc4c(c3)cc[nH]4)F\",\"can_use_quantum\":true,\"count\":1},{\"similarity\":0.6268382,\"shared_traits\":{\"atom\":{\"bond_orders\":4,\"degree\":4,\"formal_charge\":4,\"implicit_h\":4},\"ring\":{\"bond_orders\":2,\"degree\":2,\"hash\":2,\"implicit_h\":2}},\"target\":\"C[C@@H]1CN(C[C@@H](O1)C)C(=O)c2ccc3c(c2)cc[nH]3\",\"can_use_quantum\":true,\"count\":1},{\"similarity\":0.6098485,\"shared_traits\":{\"atom\":{\"bond_orders\":3,\"degree\":3,\"formal_charge\":3,\"implicit_h\":3},\"ring\":{\"bond_orders\":2,\"degree\":2,\"hash\":3,\"implicit_h\":3}},\"target\":\"Cc1ccc(cc1N2CCN(CC2)C(=O)c3ccc4c(c3)cc[nH]4)Cl\",\"can_use_quantum\":true,\"count\":1},{\"similarity\":0.6041667,\"shared_traits\":{\"atom\":{\"bond_orders\":3,\"degree\":3,\"formal_charge\":3,\"implicit_h\":3},\"ring\":{\"bond_orders\":1,\"degree\":3,\"hash\":3,\"implicit_h\":1}},\"target\":\"c1ccc(cc1)C[NH+]2CCN(CC2)C(=O)c3ccc(cc3)c4ccccc4\",\"can_use_quantum\":true,\"count\":1}],\"probe\":\"c1ccc2c(c1)-c3ccccc3C2[NH+]4CCN(CC4)C(=O)c5ccc6c(c5)cc[nH]6\",\"criteria\":{\"ring_hash\":{\"hash_atoms\":true,\"hash_bonds\":false},\"general\":{\"distance_tolerance\":1.5,\"distance\":false},\"bond\":{\"type\":false},\"ring\":{\"negionizable\":[1,true],\"posionizable\":[1,true],\"donor\":[1,true],\"acceptor\":[1,true],\"bond_orders\":[1,false],\"degree\":[1,false],\"implicit_h\":[1,false],\"hash\":[1,true]},\"atom\":{\"negionizable\":[1,true],\"posionizable\":[1,true],\"donor\":[1,true],\"acceptor\":[1,true],\"formal_charge\":[1,false],\"bond_orders\":[1,false],\"implicit_h\":[1,false],\"degree\":[1,false],\"atomic_num\":[1,true]}},\"referenceID\":\"cjb2nd5gk000a9fghrhai49hg\",\"compare_total\":57}}\\n', 'Showing 20 most similar results\\nProgress: 57 of 57 complete\\n')\n"
     ]
    }
   ],
   "source": [
    "import subprocess\n",
    "mol_comp_cmd = \"molcomp_cli\"\n",
    "features = {\n",
    "    \"atom-atomic-number-critical\":\"true\",\n",
    "    \"atom-formal-charge-critical\":\"false\",\n",
    "    \"atom-formal-charge-critical\":\"false\",\n",
    "    \"atom-implicit-hydrogen-bonds-critical\":\"false\",\n",
    "    \"atom-degree-critical\":\"false\",\n",
    "    \n",
    "    \"atom-acceptor-critical\":\"true\",\n",
    "    \"atom-donor-critical\":\"true\",\n",
    "    \"atom-posionizable-critical\":\"true\",\n",
    "    \"atom-negionizable-critical\":\"true\",\n",
    "    \"general-distance\":\"false\"\n",
    "}\n",
    "cmd_args = []\n",
    "cmd_args.append(mol_comp_cmd)\n",
    "cmd_args.append(\"run\")\n",
    "cmd_args.append(\"-p\")\n",
    "cmd_args.append(\"\\\"c1ccc2c(c1)-c3ccccc3C2[NH+]4CCN(CC4)C(=O)c5ccc6c(c5)cc[nH]6\\\"\")\n",
    "cmd_args.append(\"-f\")\n",
    "cmd_args.append(\"/Users/jfeng1/Datasets/QuantumComputing/poc2/actives.smi\")\n",
    "for key in features:\n",
    "    cmd_args.append(\"--%s\"%key)\n",
    "    cmd_args.append(features[key])\n",
    "print \" \".join(cmd_args)    \n",
    "p = subprocess.Popen(cmd_args,stdout=subprocess.PIPE, stderr=subprocess.PIPE)\n",
    "result = p.communicate()\n",
    "print result"
   ]
  },
  {
   "cell_type": "code",
   "execution_count": 83,
   "metadata": {},
   "outputs": [
    {
     "name": "stdout",
     "output_type": "stream",
     "text": [
      "cjb2nd5gk000a9fghrhai49hg\nmolcomp_cli view cjb2nd5gk000a9fghrhai49hg\n"
     ]
    },
    {
     "name": "stdout",
     "output_type": "stream",
     "text": [
      "('{\"result\":{\"compare_progress\":57,\"results\":[{\"similarity\":1,\"shared_traits\":{\"atom\":{\"bond_orders\":4,\"degree\":4,\"formal_charge\":4,\"implicit_h\":4},\"ring\":{\"bond_orders\":6,\"degree\":6,\"hash\":6,\"implicit_h\":6}},\"target\":\"c1ccc2c(c1)-c3ccccc3C2[NH+]4CCN(CC4)C(=O)c5ccc6c(c5)cc[nH]6\",\"can_use_quantum\":true,\"count\":2},{\"similarity\":0.82482994,\"shared_traits\":{\"atom\":{\"bond_orders\":4,\"degree\":4,\"formal_charge\":4,\"implicit_h\":4},\"ring\":{\"bond_orders\":3,\"degree\":5,\"hash\":5,\"implicit_h\":3}},\"target\":\"c1ccc(cc1)C(c2ccccc2)[NH+]3CCN(CC3)C(=O)c4ccc5c(c4)cc[nH]5\",\"can_use_quantum\":true,\"count\":2},{\"similarity\":0.81805557,\"shared_traits\":{\"atom\":{\"bond_orders\":4,\"degree\":4,\"formal_charge\":4,\"implicit_h\":4},\"ring\":{\"bond_orders\":3,\"degree\":4,\"hash\":4,\"implicit_h\":3}},\"target\":\"c1ccc(cc1)C[NH+]2CCN(CC2)C(=O)c3ccc4c(c3)cc[nH]4\",\"can_use_quantum\":true,\"count\":2},{\"similarity\":0.765625,\"shared_traits\":{\"atom\":{\"bond_orders\":4,\"degree\":4,\"formal_charge\":4,\"implicit_h\":4},\"ring\":{\"bond_orders\":4,\"degree\":4,\"hash\":6,\"implicit_h\":4}},\"target\":\"COc1ccc-2c(c1)[C@H](c3c2cccc3)[NH+]4CCN(CC4)C(=O)c5ccc6c(c5)cc[nH]6\",\"can_use_quantum\":true,\"count\":2},{\"similarity\":0.765625,\"shared_traits\":{\"atom\":{\"bond_orders\":4,\"degree\":4,\"formal_charge\":4,\"implicit_h\":4},\"ring\":{\"bond_orders\":4,\"degree\":4,\"hash\":6,\"implicit_h\":4}},\"target\":\"COc1cccc2c1-c3ccccc3[C@@H]2[NH+]4CCN(CC4)C(=O)c5ccc6c(c5)cc[nH]6\",\"can_use_quantum\":true,\"count\":2},{\"similarity\":0.7554167,\"shared_traits\":{\"atom\":{\"bond_orders\":4,\"degree\":4,\"formal_charge\":4,\"implicit_h\":4},\"ring\":{\"bond_orders\":3,\"degree\":3,\"hash\":4,\"implicit_h\":3}},\"target\":\"c1cc2c(cc1C[NH+]3CCN(CC3)C(=O)c4ccc5c(c4)cc[nH]5)OCO2\",\"can_use_quantum\":true,\"count\":2},{\"similarity\":0.7463235,\"shared_traits\":{\"atom\":{\"bond_orders\":4,\"degree\":4,\"formal_charge\":4,\"implicit_h\":4},\"ring\":{\"bond_orders\":4,\"degree\":4,\"hash\":6,\"implicit_h\":4}},\"target\":\"CN(C)c1ccc-2c(c1)[C@H](c3c2cccc3)[NH+]4CCN(CC4)C(=O)c5ccc6c(c5)cc[nH]6\",\"can_use_quantum\":true,\"count\":2},{\"similarity\":0.7463235,\"shared_traits\":{\"atom\":{\"bond_orders\":4,\"degree\":4,\"formal_charge\":4,\"implicit_h\":4},\"ring\":{\"bond_orders\":4,\"degree\":4,\"hash\":6,\"implicit_h\":4}},\"target\":\"c1ccc2c(c1)-c3ccc(cc3[C@H]2[NH+]4CCN(CC4)C(=O)c5ccc6c(c5)cc[nH]6)[N+](=O)[O-]\",\"can_use_quantum\":true,\"count\":2},{\"similarity\":0.7463235,\"shared_traits\":{\"atom\":{\"bond_orders\":4,\"degree\":4,\"formal_charge\":4,\"implicit_h\":4},\"ring\":{\"bond_orders\":4,\"degree\":4,\"hash\":6,\"implicit_h\":4}},\"target\":\"c1ccc2c(c1)-c3cc(ccc3[C@@H]2[NH+]4CCN(CC4)C(=O)c5ccc6c(c5)cc[nH]6)[N+](=O)[O-]\",\"can_use_quantum\":true,\"count\":2},{\"similarity\":0.7375,\"shared_traits\":{\"atom\":{\"bond_orders\":4,\"degree\":4,\"formal_charge\":4,\"implicit_h\":4},\"ring\":{\"bond_orders\":4,\"degree\":4,\"hash\":6,\"implicit_h\":4}},\"target\":\"c1ccc2c(c1)-c3ccc(cc3[C@H]2[NH+]4CCN(CC4)C(=O)c5ccc6c(c5)cc[nH]6)NC=O\",\"can_use_quantum\":true,\"count\":2},{\"similarity\":0.72855395,\"shared_traits\":{\"atom\":{\"bond_orders\":3,\"degree\":3,\"formal_charge\":3,\"implicit_h\":3},\"ring\":{\"bond_orders\":3,\"degree\":3,\"hash\":3,\"implicit_h\":3}},\"target\":\"c1ccc2c(c1)ccc(n2)C(=O)c3ccc4c(c3)cc[nH]4\",\"can_use_quantum\":true,\"count\":2},{\"similarity\":0.72855395,\"shared_traits\":{\"atom\":{\"bond_orders\":3,\"degree\":3,\"formal_charge\":3,\"implicit_h\":3},\"ring\":{\"bond_orders\":3,\"degree\":3,\"hash\":3,\"implicit_h\":3}},\"target\":\"c1ccc2c(c1)CCN(C2)C(=O)c3ccc4c(c3)cc[nH]4\",\"can_use_quantum\":true,\"count\":2},{\"similarity\":0.70343137,\"shared_traits\":{\"atom\":{\"bond_orders\":3,\"degree\":3,\"formal_charge\":3,\"implicit_h\":3},\"ring\":{\"bond_orders\":2,\"degree\":2,\"hash\":3,\"implicit_h\":3}},\"target\":\"c1ccc(cc1)N2CCN(CC2)C(=O)c3ccc4c(c3)cc[nH]4\",\"can_use_quantum\":true,\"count\":2},{\"similarity\":0.6770833,\"shared_traits\":{\"atom\":{\"bond_orders\":3,\"degree\":3,\"formal_charge\":3,\"implicit_h\":3},\"ring\":{\"bond_orders\":2,\"degree\":2,\"hash\":2,\"implicit_h\":2}},\"target\":\"c1cc(cnc1)C(=O)c2ccc3c(c2)cc[nH]3\",\"can_use_quantum\":true,\"count\":2},{\"similarity\":0.650641,\"shared_traits\":{\"atom\":{\"bond_orders\":3,\"degree\":3,\"formal_charge\":3,\"implicit_h\":3},\"ring\":{\"bond_orders\":2,\"degree\":2,\"hash\":3,\"implicit_h\":3}},\"target\":\"c1cc(cc(c1)Cl)N2CCN(CC2)C(=O)c3ccc4c(c3)cc[nH]4\",\"can_use_quantum\":true,\"count\":2},{\"similarity\":0.650641,\"shared_traits\":{\"atom\":{\"bond_orders\":3,\"degree\":3,\"formal_charge\":3,\"implicit_h\":3},\"ring\":{\"bond_orders\":2,\"degree\":2,\"hash\":3,\"implicit_h\":3}},\"target\":\"c1cc(ccc1N2CCN(CC2)C(=O)c3ccc4c(c3)cc[nH]4)Cl\",\"can_use_quantum\":true,\"count\":2},{\"similarity\":0.64166665,\"shared_traits\":{\"atom\":{\"bond_orders\":3,\"degree\":3,\"formal_charge\":3,\"implicit_h\":3},\"ring\":{\"bond_orders\":2,\"degree\":2,\"hash\":3,\"implicit_h\":3}},\"target\":\"c1cc(ccc1N2CCN(CC2)C(=O)c3ccc4c(c3)cc[nH]4)F\",\"can_use_quantum\":true,\"count\":2},{\"similarity\":0.6268382,\"shared_traits\":{\"atom\":{\"bond_orders\":4,\"degree\":4,\"formal_charge\":4,\"implicit_h\":4},\"ring\":{\"bond_orders\":2,\"degree\":2,\"hash\":2,\"implicit_h\":2}},\"target\":\"C[C@@H]1CN(C[C@@H](O1)C)C(=O)c2ccc3c(c2)cc[nH]3\",\"can_use_quantum\":true,\"count\":2},{\"similarity\":0.6098485,\"shared_traits\":{\"atom\":{\"bond_orders\":3,\"degree\":3,\"formal_charge\":3,\"implicit_h\":3},\"ring\":{\"bond_orders\":2,\"degree\":2,\"hash\":3,\"implicit_h\":3}},\"target\":\"Cc1ccc(cc1N2CCN(CC2)C(=O)c3ccc4c(c3)cc[nH]4)Cl\",\"can_use_quantum\":true,\"count\":2},{\"similarity\":0.6041667,\"shared_traits\":{\"atom\":{\"bond_orders\":3,\"degree\":3,\"formal_charge\":3,\"implicit_h\":3},\"ring\":{\"bond_orders\":1,\"degree\":3,\"hash\":3,\"implicit_h\":1}},\"target\":\"c1ccc(cc1)C[NH+]2CCN(CC2)C(=O)c3ccc(cc3)c4ccccc4\",\"can_use_quantum\":true,\"count\":2}],\"probe\":\"c1ccc2c(c1)-c3ccccc3C2[NH+]4CCN(CC4)C(=O)c5ccc6c(c5)cc[nH]6\",\"criteria\":{\"ring_hash\":{\"hash_atoms\":true,\"hash_bonds\":false},\"general\":{\"distance_tolerance\":1.5,\"distance\":false},\"bond\":{\"type\":false},\"ring\":{\"negionizable\":[1,true],\"posionizable\":[1,true],\"donor\":[1,true],\"acceptor\":[1,true],\"bond_orders\":[1,false],\"degree\":[1,false],\"implicit_h\":[1,false],\"hash\":[1,true]},\"atom\":{\"negionizable\":[1,true],\"posionizable\":[1,true],\"donor\":[1,true],\"acceptor\":[1,true],\"formal_charge\":[1,false],\"bond_orders\":[1,false],\"implicit_h\":[1,false],\"degree\":[1,false],\"atomic_num\":[1,true]}},\"referenceID\":\"cjb2nd5gk000a9fghrhai49hg\",\"compare_total\":57}}\\n', 'Showing 20 most similar results\\nProgress: 57 of 57 complete\\n')\n"
     ]
    }
   ],
   "source": [
    "import json\n",
    "dict = json.loads(result[0])\n",
    "refId = dict['result']['referenceID']\n",
    "print refId\n",
    "\n",
    "view_cmd_args = []\n",
    "view_cmd_args.append(mol_comp_cmd)\n",
    "view_cmd_args.append(\"view\")\n",
    "view_cmd_args.append(refId)\n",
    "print \" \".join(view_cmd_args)\n",
    "p = subprocess.Popen(view_cmd_args,stdout=subprocess.PIPE, stderr=subprocess.PIPE)\n",
    "result = p.communicate()\n",
    "print result\n",
    "\n",
    "\n",
    "# arry =  dict['result']['similarity']\n",
    "# for a in arry:\n",
    "#     print a[0],a[1]['data']['similarity']"
   ]
  },
  {
   "cell_type": "code",
   "execution_count": 80,
   "metadata": {
    "collapsed": true
   },
   "outputs": [
    {
     "name": "stdout",
     "output_type": "stream",
     "text": [
      "c1ccc2c(c1)c3c(n2C(=O)CSc4[nH]c5ccccc5[nH+]4)CCCC3 0.5756682\nC[C@@H]1Cc2ccccc2N1C(=O)/C=C\\c3cn[nH]c3c4cc5ccccc5o4 0.5711207\nC[C@@H]1Cc2ccccc2N1C(=O)/C=C/c3cn[nH]c3c4cc5ccccc5o4 0.5711207\nC[C@H]1Cc2ccccc2N1C(=O)/C=C/c3cn[nH]c3c4cc5ccccc5o4 0.5711207\nc1ccc2c(c1)CCCN2C(=O)CSc3nc4c(c5ccccc5[nH]4)nn3 0.5567602\nc1ccc2c(c1)CCN2C(=O)CSc3nc4c(c5ccccc5[nH]4)nn3 0.5567602\nC[C@H]1Cc2ccccc2N1C(=O)CSc3nc4c(c5ccccc5[nH]4)nn3 0.547846\nC[C@@H]1Cc2ccccc2N1C(=O)CSc3nc4c(c5ccccc5[nH]4)nn3 0.547846\nCOC(=O)c1cccc2c1[nH]cc2/C=N/N=c\\3/c4ccccc4c(n[nH]3)Cl 0.5412265\nC[C@H]1Cc2ccccc2N1C(=O)CSc3nnc4n3c5ccccc5[nH]4 0.5359543\nC[C@H](C(=O)N1CCc2c1cccc2)Sc3nnc4n3c5ccccc5[nH]4 0.5359543\nC[C@@H]1Cc2ccccc2N1C(=O)CSc3nnc4n3c5ccccc5[nH]4 0.5359543\nC[C@@H]1CCN(c2ccccc2S1)C(=O)CSc3nnc4n3c5ccccc5[nH]4 0.5359543\nc1ccc2c(c1)CCN(C2)C(=O)c3ccc4c(c3)NC(=O)c5ccccc5S4 0.5344551\nCc1ccc(cc1)C(=O)NN2[C@H](SCC2=O)c3c[nH]c4c3cccc4 0.52670455\nCc1ccc(cc1)C(=O)NN2[C@@H](SCC2=O)c3c[nH]c4c3cccc4 0.52670455\nCc1c(c2ccccc2nc1c3ccccc3)C(=O)N4CCC[C@@H](C4)CO 0.5257353\nc1ccc2c(c1)OC[C@@H](O2)CN(Cc3c[nH]c4c3cc(cc4)F)C(=O)c5c[nH]c[nH+]5 0.52421534\nc1ccc2c(c1)-c3c(sc(n3)NC(=O)[C@@H]4COc5ccccc5O4)CS2 0.52272725\nc1ccc-2c(c1)CCc3c2nc(s3)NC(=O)[C@@H]4COc5ccccc5O4 0.52272725\n"
     ]
    }
   ],
   "source": [
    "dict = json.loads(result[0])\n",
    "data = dict['result'][\"results\"]\n",
    "for d in data:\n",
    "    print d['target'],d['similarity']"
   ]
  },
  {
   "cell_type": "code",
   "execution_count": 27,
   "metadata": {},
   "outputs": [],
   "source": [
    ""
   ]
  },
  {
   "cell_type": "code",
   "execution_count": null,
   "metadata": {},
   "outputs": [],
   "source": []
  }
 ],
 "metadata": {
  "kernelspec": {
   "display_name": "Python 2",
   "language": "python",
   "name": "python2"
  },
  "language_info": {
   "codemirror_mode": {
    "name": "ipython",
    "version": 2
   },
   "file_extension": ".py",
   "mimetype": "text/x-python",
   "name": "python",
   "nbconvert_exporter": "python",
   "pygments_lexer": "ipython2",
   "version": "2.7.6"
  }
 },
 "nbformat": 4,
 "nbformat_minor": 0
}
