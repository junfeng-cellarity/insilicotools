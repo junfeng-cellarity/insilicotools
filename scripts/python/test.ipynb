{
 "cells": [
  {
   "cell_type": "code",
   "execution_count": 1,
   "metadata": {
    "collapsed": true
   },
   "outputs": [
    {
     "name": "stdout",
     "output_type": "stream",
     "text": [
      "['1', '0', '3', '2', '4']\n"
     ]
    }
   ],
   "source": [
    "from openeye.oechem import *\n",
    "from parse import *\n",
    "titles = []\n",
    "reagentDict = {}\n",
    "csv = open(\"/Users/jfeng1/enumeration.csv\",\"r\").read()\n",
    "for lineno,line in enumerate(csv.splitlines()):\n",
    "    if lineno==0:\n",
    "        titles = line.split(\",\")\n",
    "    else:\n",
    "        fragments = line.split(\",\")\n",
    "        for idx,fragment in enumerate(fragments):\n",
    "            rs = parse(\"R{} smiles\", titles[idx])\n",
    "            if rs is not None:\n",
    "                rg_id = rs[0]\n",
    "                if rg_id not in reagentDict:\n",
    "                    reagentDict[rg_id] = []\n",
    "                reagentDict[rg_id].append(fragment)\n",
    "print reagentDict.keys()"
   ]
  },
  {
   "cell_type": "code",
   "execution_count": 11,
   "metadata": {},
   "outputs": [],
   "source": [
    "def connect_molecule(smiles_array):\n",
    "    mol = OEGraphMol()\n",
    "    for smiles in smiles_array:\n",
    "        frag = OEGraphMol()\n",
    "        OEParseSmiles(frag, smiles)\n",
    "        OEAddMols(mol,frag)\n",
    "    return mol"
   ]
  },
  {
   "cell_type": "code",
   "execution_count": 20,
   "metadata": {},
   "outputs": [
    {
     "name": "stdout",
     "output_type": "stream",
     "text": [
      "Cc1c[c](ccc1[CH2][NH][C](=O)[c]2cnc(s2)C(C)(C)C)[c]3ccnc(c3)[NH][c]4ccc(cn4)N5CCN(CC5)C\n"
     ]
    }
   ],
   "source": [
    "smi_array = [reagentDict['0'][0],reagentDict['1'][0], reagentDict['2'][0], reagentDict['3'][0], reagentDict['4'][0]]\n",
    "mol = connect_molecule(smi_array)\n",
    "atom_map = {}\n",
    "atom_to_delete = []\n",
    "for atom in mol.GetAtoms():\n",
    "    if atom.GetMapIdx() != 0:\n",
    "        map_idx = atom.GetMapIdx()\n",
    "        if map_idx not in atom_map:\n",
    "            atom_map[map_idx] = []\n",
    "        for nbr in atom.GetAtoms():\n",
    "            atom_map[map_idx].append(nbr)\n",
    "            break\n",
    "        atom_to_delete.append(atom)\n",
    "for atomList in atom_map.values():\n",
    "    mol.NewBond(atomList[0],atomList[1])\n",
    "for atom in atom_to_delete:\n",
    "    mol.DeleteAtom(atom)\n",
    "print OEMolToSmiles(mol)\n"
   ]
  },
  {
   "cell_type": "code",
   "execution_count": null,
   "metadata": {},
   "outputs": [],
   "source": []
  }
 ],
 "metadata": {
  "kernelspec": {
   "display_name": "Python 2",
   "language": "python",
   "name": "python2"
  },
  "language_info": {
   "codemirror_mode": {
    "name": "ipython",
    "version": 2
   },
   "file_extension": ".py",
   "mimetype": "text/x-python",
   "name": "python",
   "nbconvert_exporter": "python",
   "pygments_lexer": "ipython2",
   "version": "2.7.6"
  }
 },
 "nbformat": 4,
 "nbformat_minor": 0
}
