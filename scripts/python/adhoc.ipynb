{
 "cells": [
  {
   "cell_type": "code",
   "execution_count": 22,
   "metadata": {
    "collapsed": true
   },
   "outputs": [
    {
     "name": "stdout",
     "output_type": "stream",
     "text": [
      "OK\n"
     ]
    }
   ],
   "source": [
    "import os\n",
    "directory = \"/Users/jfeng1/forSiva\"\n",
    "txtfile = os.path.join(directory,\"TFEB_Biogen_MOA_Annotated.txt\")\n",
    "smifile = os.path.join(directory,\"output.smi\")\n",
    "smiDict = {}\n",
    "for line in open(smifile).read().splitlines():\n",
    "    if len(line.strip()) == 0:\n",
    "        continue\n",
    "    smi,id = line.split()\n",
    "    smiDict[id] = smi\n",
    "\n",
    "output = open(os.path.join(directory,\"output.txt\"),\"w\")\n",
    "colNames = []\n",
    "keyId = -1\n",
    "for lineno,line in enumerate(open(txtfile,\"r\").read().splitlines()):\n",
    "    args = line.split(\"\\t\")\n",
    "    if lineno == 0:\n",
    "        colNames = args\n",
    "        colNames.append(\"Smiles\")\n",
    "        print >> output, \"\\t\".join(colNames)\n",
    "        keyId = colNames.index(\"Corporate ID\")\n",
    "    else:\n",
    "        args.append(smiDict[args[keyId]])\n",
    "        print >> output, \"\\t\".join(args)\n",
    "        \n",
    "output.close()       \n",
    "print \"OK\""
   ]
  },
  {
   "cell_type": "code",
   "execution_count": 8,
   "metadata": {},
   "outputs": [],
   "source": [
    ""
   ]
  },
  {
   "cell_type": "code",
   "execution_count": 8,
   "metadata": {},
   "outputs": [],
   "source": [
    ""
   ]
  },
  {
   "cell_type": "code",
   "execution_count": null,
   "metadata": {},
   "outputs": [],
   "source": [
    ""
   ]
  }
 ],
 "metadata": {
  "kernelspec": {
   "display_name": "Python 2",
   "language": "python",
   "name": "python2"
  },
  "language_info": {
   "codemirror_mode": {
    "name": "ipython",
    "version": 2.0
   },
   "file_extension": ".py",
   "mimetype": "text/x-python",
   "name": "python",
   "nbconvert_exporter": "python",
   "pygments_lexer": "ipython2",
   "version": "2.7.6"
  }
 },
 "nbformat": 4,
 "nbformat_minor": 0
}