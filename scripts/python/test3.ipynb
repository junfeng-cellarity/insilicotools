{
 "cells": [
  {
   "cell_type": "code",
   "execution_count": null,
   "metadata": {},
   "outputs": [],
   "source": [
    "import os\n",
    "import sys\n",
    "import glob\n",
    "\n",
    "source_dir = \"/Volumes/UserUCDD/ienyedy/kinases/GSK3/GLIDE\"\n",
    "dest_dir = \"/Volumes/UserUCDD/jfeng1/GlideDockingDB/\"\n",
    "dirs = glob.glob(os.path.join(source_dir,\"GRID*\"))\n",
    "receptor_names = []\n",
    "grid_file_dict = {}\n",
    "maegz_file_dict = {}\n",
    "pdb_file_dict = {}\n",
    "sdf_file_dict = {}\n",
    "for dir in dirs:\n",
    "    basename = os.path.basename(dir)\n",
    "    grid_name = basename.split(\"_\", 1)\n",
    "    receptor_name = grid_name[1]\n",
    "    maegz_name = os.path.join(dir,\"%s.maegz\"%basename)\n",
    "    zip_name = os.path.join(dir,\"%s.zip\"%basename)\n",
    "    isValid = os.path.isfile(zip_name) and os.path.isfile(maegz_name)\n",
    "    if isValid:\n",
    "        receptor_names.append(receptor_name)\n",
    "        grid_file_dict[receptor_name] = zip_name\n",
    "        maegz_file_dict[receptor_name] = maegz_name\n",
    "        pdb_file = os.path.join(source_dir,\"%s.pdb\"%receptor_name)\n",
    "        sdf_file = os.path.join(source_dir,\"%s.sdf\"%receptor_name)\n",
    "        pdb_file_dict[receptor_name] = pdb_file\n",
    "        sdf_file_dict[receptor_name] = sdf_file\n",
    "\n",
    "import shutil\n",
    "for receptor_name in receptor_names:\n",
    "    dest = os.path.join(dest_dir,receptor_name)\n",
    "    if not os.path.exists(dest):\n",
    "        os.makedirs(dest)\n",
    "    shutil.copy(grid_file_dict[receptor_name],os.path.join(dest,\"grid.zip\"))\n",
    "    shutil.copy(maegz_file_dict[receptor_name],os.path.join(dest,\"receptor.maegz\"))\n",
    "    shutil.copy(pdb_file_dict[receptor_name],os.path.join(dest,\"receptor.pdb\"))\n",
    "    shutil.copy(sdf_file_dict[receptor_name],os.path.join(dest,\"ligand.sdf\"))\n",
    "\n",
    "    \n",
    "    "
   ]
  },
  {
   "cell_type": "code",
   "execution_count": null,
   "metadata": {},
   "outputs": [],
   "source": []
  }
 ],
 "metadata": {
  "kernelspec": {
   "display_name": "Python 2",
   "language": "python",
   "name": "python2"
  },
  "language_info": {
   "codemirror_mode": {
    "name": "ipython",
    "version": 2
   },
   "file_extension": ".py",
   "mimetype": "text/x-python",
   "name": "python",
   "nbconvert_exporter": "python",
   "pygments_lexer": "ipython2",
   "version": "2.7.6"
  }
 },
 "nbformat": 4,
 "nbformat_minor": 0
}
