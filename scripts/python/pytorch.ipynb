{
 "cells": [
  {
   "cell_type": "code",
   "execution_count": 1,
   "metadata": {
    "collapsed": true
   },
   "outputs": [],
   "source": [
    "from __future__ import print_function\n",
    "import torch\n"
   ]
  },
  {
   "cell_type": "code",
   "execution_count": 2,
   "metadata": {},
   "outputs": [
    {
     "name": "stdout",
     "output_type": "stream",
     "text": [
      "tensor([[0., 0., 0.],\n        [0., 0., 0.],\n        [0., 0., 0.],\n        [0., 0., 0.],\n        [0., 0., 0.]])\n"
     ]
    }
   ],
   "source": [
    "x = torch.zeros(5,3)\n",
    "print (x)"
   ]
  },
  {
   "cell_type": "code",
   "execution_count": 3,
   "metadata": {},
   "outputs": [
    {
     "name": "stdout",
     "output_type": "stream",
     "text": [
      "tensor([[-0.0075,  0.4770],\n        [-1.2433,  0.0737]])\ntensor(0.0222)\ntensor([[ 0.0222, -2.7364],\n        [ 1.6627, -0.2386]])\n"
     ]
    }
   ],
   "source": [
    "a = torch.randn(2,2)\n",
    "print(a)\n",
    "print(a[0][0]*3/(a[0][0]-1))\n",
    "a = ((a*3)/(a-1))\n",
    "print(a)\n"
   ]
  },
  {
   "cell_type": "code",
   "execution_count": 4,
   "metadata": {
    "collapsed": true
   },
   "outputs": [
    {
     "name": "stdout",
     "output_type": "stream",
     "text": [
      "tensor([[1., 1.],\n        [1., 1.]])\n"
     ]
    }
   ],
   "source": [
    "x = torch.ones(2, 2)\n",
    "print(x)"
   ]
  },
  {
   "cell_type": "code",
   "execution_count": 5,
   "metadata": {},
   "outputs": [
    {
     "data": {
      "text/plain": [
       "['__abs__',\n '__add__',\n '__and__',\n '__array__',\n '__array_wrap__',\n '__bool__',\n '__class__',\n '__deepcopy__',\n '__delattr__',\n '__delitem__',\n '__dict__',\n '__dir__',\n '__div__',\n '__doc__',\n '__eq__',\n '__float__',\n '__floordiv__',\n '__format__',\n '__ge__',\n '__getattribute__',\n '__getitem__',\n '__gt__',\n '__hash__',\n '__iadd__',\n '__iand__',\n '__idiv__',\n '__ilshift__',\n '__imul__',\n '__index__',\n '__init__',\n '__int__',\n '__invert__',\n '__ior__',\n '__ipow__',\n '__irshift__',\n '__isub__',\n '__iter__',\n '__itruediv__',\n '__ixor__',\n '__le__',\n '__len__',\n '__long__',\n '__lshift__',\n '__lt__',\n '__matmul__',\n '__mod__',\n '__module__',\n '__mul__',\n '__ne__',\n '__neg__',\n '__new__',\n '__nonzero__',\n '__or__',\n '__pow__',\n '__radd__',\n '__rdiv__',\n '__reduce__',\n '__reduce_ex__',\n '__repr__',\n '__reversed__',\n '__rfloordiv__',\n '__rmul__',\n '__rpow__',\n '__rshift__',\n '__rsub__',\n '__rtruediv__',\n '__setattr__',\n '__setitem__',\n '__setstate__',\n '__sizeof__',\n '__str__',\n '__sub__',\n '__subclasshook__',\n '__truediv__',\n '__weakref__',\n '__xor__',\n '_abs',\n '_acos',\n '_addmv',\n '_addmv_',\n '_addr',\n '_addr_',\n '_argmax',\n '_argmin',\n '_asin',\n '_atan',\n '_backward_hooks',\n '_base',\n '_bernoulli_',\n '_cast_Byte',\n '_cast_Char',\n '_cast_Double',\n '_cast_Float',\n '_cast_Half',\n '_cast_Int',\n '_cast_Long',\n '_cast_Short',\n '_cdata',\n '_ceil',\n '_copy_ignoring_overlaps_',\n '_cos',\n '_cosh',\n '_denseDims',\n '_dimI',\n '_dimV',\n '_dot',\n '_erf',\n '_erfc',\n '_exp',\n '_expm1',\n '_fft_with_size',\n '_fill_',\n '_floor',\n '_ger',\n '_grad',\n '_grad_fn',\n '_indices',\n '_log',\n '_log10',\n '_log1p',\n '_log2',\n '_make_subclass',\n '_mm',\n '_mv',\n '_nnz',\n '_round',\n '_rsqrt',\n '_s_where',\n '_sin',\n '_sinh',\n '_sparseDims',\n '_sparse_mask',\n '_sqrt',\n '_standard_gamma',\n '_standard_gamma_grad',\n '_tan',\n '_trunc',\n '_unique',\n '_values',\n '_version',\n 'abs',\n 'abs_',\n 'acos',\n 'acos_',\n 'add',\n 'add_',\n 'addbmm',\n 'addbmm_',\n 'addcdiv',\n 'addcdiv_',\n 'addcmul',\n 'addcmul_',\n 'addmm',\n 'addmm_',\n 'addmv',\n 'addmv_',\n 'addr',\n 'addr_',\n 'all',\n 'allclose',\n 'any',\n 'apply_',\n 'argmax',\n 'argmin',\n 'as_strided',\n 'as_strided_',\n 'asin',\n 'asin_',\n 'atan',\n 'atan2',\n 'atan2_',\n 'atan_',\n 'backward',\n 'baddbmm',\n 'baddbmm_',\n 'bernoulli',\n 'bernoulli_',\n 'bincount',\n 'bmm',\n 'btrifact',\n 'btrifact_with_info',\n 'btrisolve',\n 'byte',\n 'cauchy_',\n 'ceil',\n 'ceil_',\n 'char',\n 'chunk',\n 'clamp',\n 'clamp_',\n 'clone',\n 'coalesce',\n 'contiguous',\n 'conv_tbc',\n 'copy_',\n 'cos',\n 'cos_',\n 'cosh',\n 'cosh_',\n 'cpu',\n 'cross',\n 'cuda',\n 'cumprod',\n 'cumsum',\n 'data',\n 'data_ptr',\n 'det',\n 'detach',\n 'detach_',\n 'device',\n 'diag',\n 'diagonal',\n 'digamma',\n 'digamma_',\n 'dim',\n 'dist',\n 'div',\n 'div_',\n 'dot',\n 'double',\n 'dtype',\n 'eig',\n 'element_size',\n 'eq',\n 'eq_',\n 'equal',\n 'erf',\n 'erf_',\n 'erfc',\n 'erfc_',\n 'erfinv',\n 'erfinv_',\n 'exp',\n 'exp_',\n 'expand',\n 'expand_as',\n 'expm1',\n 'expm1_',\n 'exponential_',\n 'fft',\n 'fill_',\n 'flatten',\n 'flip',\n 'float',\n 'floor',\n 'floor_',\n 'fmod',\n 'fmod_',\n 'frac',\n 'frac_',\n 'gather',\n 'ge',\n 'ge_',\n 'gels',\n 'geometric_',\n 'geqrf',\n 'ger',\n 'gesv',\n 'get_device',\n 'grad',\n 'grad_fn',\n 'gt',\n 'gt_',\n 'half',\n 'hardshrink',\n 'histc',\n 'ifft',\n 'index_add',\n 'index_add_',\n 'index_copy',\n 'index_copy_',\n 'index_fill',\n 'index_fill_',\n 'index_put',\n 'index_put_',\n 'index_select',\n 'int',\n 'inverse',\n 'irfft',\n 'is_coalesced',\n 'is_contiguous',\n 'is_cuda',\n 'is_distributed',\n 'is_floating_point',\n 'is_leaf',\n 'is_nonzero',\n 'is_pinned',\n 'is_same_size',\n 'is_set_to',\n 'is_shared',\n 'is_signed',\n 'is_sparse',\n 'isclose',\n 'item',\n 'kthvalue',\n 'layout',\n 'le',\n 'le_',\n 'lerp',\n 'lerp_',\n 'lgamma',\n 'lgamma_',\n 'log',\n 'log10',\n 'log10_',\n 'log1p',\n 'log1p_',\n 'log2',\n 'log2_',\n 'log_',\n 'log_normal_',\n 'log_softmax',\n 'log_softmax_backward_data',\n 'logdet',\n 'logsumexp',\n 'long',\n 'lt',\n 'lt_',\n 'map2_',\n 'map_',\n 'masked_copy',\n 'masked_copy_',\n 'masked_fill',\n 'masked_fill_',\n 'masked_scatter',\n 'masked_scatter_',\n 'masked_select',\n 'matmul',\n 'max',\n 'mean',\n 'median',\n 'min',\n 'mm',\n 'mode',\n 'mul',\n 'mul_',\n 'multinomial',\n 'mv',\n 'name',\n 'narrow',\n 'ndimension',\n 'ne',\n 'ne_',\n 'neg',\n 'neg_',\n 'nelement',\n 'new',\n 'new_empty',\n 'new_full',\n 'new_ones',\n 'new_tensor',\n 'new_zeros',\n 'nonzero',\n 'norm',\n 'normal_',\n 'numel',\n 'numpy',\n 'orgqr',\n 'ormqr',\n 'output_nr',\n 'permute',\n 'pin_memory',\n 'pinverse',\n 'polygamma',\n 'polygamma_',\n 'potrf',\n 'potri',\n 'potrs',\n 'pow',\n 'pow_',\n 'prod',\n 'pstrf',\n 'put_',\n 'qr',\n 'random_',\n 'reciprocal',\n 'reciprocal_',\n 'record_stream',\n 'register_hook',\n 'reinforce',\n 'relu',\n 'relu_',\n 'remainder',\n 'remainder_',\n 'renorm',\n 'renorm_',\n 'repeat',\n 'requires_grad',\n 'requires_grad_',\n 'reshape',\n 'reshape_as',\n 'resize',\n 'resize_',\n 'resize_as',\n 'resize_as_',\n 'retain_grad',\n 'rfft',\n 'round',\n 'round_',\n 'rsqrt',\n 'rsqrt_',\n 'scatter',\n 'scatter_',\n 'scatter_add',\n 'scatter_add_',\n 'select',\n 'set_',\n 'shape',\n 'share_memory_',\n 'short',\n 'sigmoid',\n 'sigmoid_',\n 'sign',\n 'sign_',\n 'sin',\n 'sin_',\n 'sinh',\n 'sinh_',\n 'size',\n 'slogdet',\n 'smm',\n 'softmax',\n 'softmax_backward_data',\n 'sort',\n 'split',\n 'split_with_sizes',\n 'sqrt',\n 'sqrt_',\n 'squeeze',\n 'squeeze_',\n 'sspaddmm',\n 'std',\n 'stft',\n 'storage',\n 'storage_offset',\n 'storage_type',\n 'stride',\n 'sub',\n 'sub_',\n 'sum',\n 'svd',\n 'symeig',\n 't',\n 't_',\n 'take',\n 'tan',\n 'tan_',\n 'tanh',\n 'tanh_',\n 'to',\n 'to_dense',\n 'tolist',\n 'topk',\n 'trace',\n 'transpose',\n 'transpose_',\n 'tril',\n 'tril_',\n 'triu',\n 'triu_',\n 'trtrs',\n 'trunc',\n 'trunc_',\n 'type',\n 'type_as',\n 'unbind',\n 'unfold',\n 'uniform_',\n 'unique',\n 'unsqueeze',\n 'unsqueeze_',\n 'var',\n 'view',\n 'view_as',\n 'where',\n 'zero_']"
      ]
     },
     "execution_count": 5,
     "metadata": {},
     "output_type": "execute_result"
    }
   ],
   "source": [
    "dir(x)"
   ]
  },
  {
   "cell_type": "code",
   "execution_count": 42,
   "metadata": {},
   "outputs": [
    {
     "name": "stdout",
     "output_type": "stream",
     "text": [
      "0.3.1.post2\n"
     ]
    }
   ],
   "source": [
    "print (torch.__version__)\n"
   ]
  },
  {
   "cell_type": "code",
   "execution_count": null,
   "metadata": {},
   "outputs": [],
   "source": []
  }
 ],
 "metadata": {
  "kernelspec": {
   "display_name": "Python 2",
   "language": "python",
   "name": "python2"
  },
  "language_info": {
   "codemirror_mode": {
    "name": "ipython",
    "version": 2
   },
   "file_extension": ".py",
   "mimetype": "text/x-python",
   "name": "python",
   "nbconvert_exporter": "python",
   "pygments_lexer": "ipython2",
   "version": "2.7.6"
  }
 },
 "nbformat": 4,
 "nbformat_minor": 0
}
