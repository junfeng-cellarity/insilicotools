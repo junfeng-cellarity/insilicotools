{
 "cells": [
  {
   "cell_type": "code",
   "execution_count": 3,
   "metadata": {
    "collapsed": true
   },
   "outputs": [
    {
     "name": "stdout",
     "output_type": "stream",
     "text": [
      "486\n351\n"
     ]
    }
   ],
   "source": [
    "from openeye.oechem import *\n",
    "from openeye.oegraphsim import *\n",
    "import os\n",
    "good_recovery_file = \"mdck_goodrecovery.sdf\"\n",
    "bad_recovery_file = \"mdck_badrecovery.sdf\"\n",
    "working_directory = \"/Users/jfeng1/Datasets/ADME\"\n",
    "\n",
    "good_list = []\n",
    "mol = OEGraphMol()\n",
    "ifs = oemolistream()\n",
    "ifs.open(os.path.join(working_directory,good_recovery_file))\n",
    "while OEReadMolecule(ifs,mol):\n",
    "    fp = OEFingerPrint()\n",
    "    OEMakeFP(fp,mol,OEFPType_Circular)\n",
    "    good_list.append((OEGraphMol(mol),fp))\n",
    "ifs.close()\n",
    "\n",
    "bad_list = []\n",
    "ifs = oemolistream()\n",
    "ifs.open(os.path.join(working_directory,bad_recovery_file))\n",
    "while OEReadMolecule(ifs,mol):\n",
    "    fp = OEFingerPrint()\n",
    "    OEMakeFP(fp,mol,OEFPType_Circular)\n",
    "    bad_list.append((OEGraphMol(mol),fp))\n",
    "ifs.close()\n",
    "\n",
    "print len(good_list)\n",
    "print len(bad_list)\n",
    "\n",
    "ofs = oemolostream()\n",
    "ofs.open(os.path.join(working_directory,\"goodrecovery_neighbors.sdf\"))\n",
    "for mol,fp in good_list:\n",
    "    best_tanimoto = 0\n",
    "    best_nbr = None\n",
    "    for nbr,fp_nbr in bad_list:\n",
    "        tanimoto = OETanimoto(fp,fp_nbr)\n",
    "        if tanimoto > best_tanimoto:\n",
    "            best_nbr = nbr\n",
    "            best_tanimoto = tanimoto\n",
    "    smile = OEMolToSmiles(best_nbr)\n",
    "    mdck = OEGetSDData(best_nbr,\"MDCK PERMEABILITY(MDR1-MDCK);Mean;P. Ratio(B-A/A-B) ((none));(Num)\")\n",
    "    OESetSDData(mol,\"Nbr_Smiles\",smile)\n",
    "    OESetSDData(mol,\"Nbr_Ratio\",mdck)\n",
    "    OEWriteMolecule(ofs,mol)\n",
    "ofs.close()"
   ]
  },
  {
   "cell_type": "code",
   "execution_count": null,
   "metadata": {},
   "outputs": [],
   "source": [
    ""
   ]
  }
 ],
 "metadata": {
  "kernelspec": {
   "display_name": "Python 2",
   "language": "python",
   "name": "python2"
  },
  "language_info": {
   "codemirror_mode": {
    "name": "ipython",
    "version": 2.0
   },
   "file_extension": ".py",
   "mimetype": "text/x-python",
   "name": "python",
   "nbconvert_exporter": "python",
   "pygments_lexer": "ipython2",
   "version": "2.7.6"
  }
 },
 "nbformat": 4,
 "nbformat_minor": 0
}