{
 "cells": [
  {
   "cell_type": "code",
   "execution_count": 18,
   "metadata": {
    "collapsed": true
   },
   "outputs": [],
   "source": [
    "from openeye.oechem import *\n",
    "from openeye.oeshape import *\n",
    "import glob\n",
    "import os\n",
    "directory = \"/Users/jfeng1/Datasets/Kinase/proasis_biib_all\"\n",
    "pdbs = glob.glob(os.path.join(directory,\"*.ent.gz\"))\n",
    "ref = os.path.join(directory,\"receptor.pdb\")\n",
    "ref_lig = os.path.join(directory,\"ligand_frag.sdf\")"
   ]
  },
  {
   "cell_type": "code",
   "execution_count": 26,
   "metadata": {},
   "outputs": [
    {
     "name": "stdout",
     "output_type": "stream",
     "text": [
      "31\n0.0108021385968\n0.0108021385968 /Users/jfeng1/Datasets/Kinase/proasis_biib/3d0e.pdb.gz\n"
     ]
    }
   ],
   "source": [
    "ifs = oemolistream()\n",
    "ifs.open(ref)\n",
    "ref_mol = OEGraphMol()\n",
    "OEReadMolecule(ifs,ref_mol)\n",
    "ifs.close()\n",
    "\n",
    "ifs = oemolistream()\n",
    "ifs.open(ref_lig)\n",
    "lig_mol = OEGraphMol()\n",
    "OEReadMolecule(ifs,lig_mol)\n",
    "ifs.close()\n",
    "ov = OEOverlap()\n",
    "ov.SetMethod(OEOverlapMethod_Analytic)\n",
    "ov.SetRefMol(lig_mol)\n",
    "\n",
    "target_lig = OEGraphMol()\n",
    "target_receptor = OEGraphMol()\n",
    "target_wat = OEGraphMol()\n",
    "other = OEGraphMol()\n",
    "\n",
    "for pdb in pdbs:\n",
    "    ifs = oemolistream()\n",
    "    ifs.open(pdb)\n",
    "    target_mol = OEGraphMol()\n",
    "    OEReadMolecule(ifs,target_mol)\n",
    "    ifs.close()\n",
    "\n",
    "    rot = OEDoubleArray(9)\n",
    "    trans = OEDoubleArray(3)\n",
    "    alignment = OEGetAlignment(ref_mol, target_mol)\n",
    "    rmsd = OERMSD(ref_mol,target_mol,alignment,True,True, rot, trans)\n",
    "    \n",
    "    OERotate(target_mol,rot)\n",
    "    OETranslate(target_mol,trans)\n",
    "    if OESplitMolComplex(target_lig,target_receptor,target_wat,other,target_mol):\n",
    "        print target_lig.NumAtoms()\n",
    "        if target_lig.NumAtoms() > 0 and rmsd < 10:\n",
    "            rs = OEOverlapResults()\n",
    "            ov.Overlap(target_lig,rs)\n",
    "            print rs.tanimoto\n",
    "            if rs.tanimoto > 0.2:\n",
    "                print rs.tanimoto,pdb\n",
    "                ofs = oemolostream()\n",
    "                filename1 = os.path.splitext(os.path.basename(pdb))[0]\n",
    "                filename2 = \"%s_rmsd.pdb\" % (filename1)\n",
    "                filename3 = os.path.join(directory,filename2)\n",
    "                ofs.open(filename3)\n",
    "                OEWriteMolecule(ofs,target_mol)\n",
    "                ofs.close()\n",
    "        \n",
    "    \n"
   ]
  },
  {
   "cell_type": "code",
   "execution_count": null,
   "metadata": {},
   "outputs": [],
   "source": []
  }
 ],
 "metadata": {
  "kernelspec": {
   "display_name": "Python 2",
   "language": "python",
   "name": "python2"
  },
  "language_info": {
   "codemirror_mode": {
    "name": "ipython",
    "version": 2
   },
   "file_extension": ".py",
   "mimetype": "text/x-python",
   "name": "python",
   "nbconvert_exporter": "python",
   "pygments_lexer": "ipython2",
   "version": "2.7.6"
  }
 },
 "nbformat": 4,
 "nbformat_minor": 0
}
