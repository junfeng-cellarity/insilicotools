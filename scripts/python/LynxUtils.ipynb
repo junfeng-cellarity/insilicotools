{
 "cells": [
  {
   "cell_type": "code",
   "execution_count": 2,
   "metadata": {
    "collapsed": true
   },
   "outputs": [
    {
     "name": "stdout",
     "output_type": "stream",
     "text": [
      "batch\nbatch\nbatch\nbatch\nbatch\nbatch\nbatch\nbatch\nbatch\nbatch\nbatch\nbatch\nbatch\nbatch\nbatch\nbatch\nbatch\nbatch\nbatch\nbatch\nbatch\nbatch\nbatch\nbatch\nbatch\nbatch\nbatch\nbatch\nbatch\nbatch\nbatch\nbatch\nplate\nplate\nplate\nplate\nplate\nplate\nplate\nplate\n1\nsample\nsample\nsample\nsample\nsample\nsample\nsample\nsample\nsample\nsample\nsample\nsample\nsample\nsample\nsample\nsample\nsample\nsample\nsample\nsample\nsample\nsample\nsample\n['MSMethod', 'MSTune', 'LCMethod', 'EconomyScheduling', 'PriorityScheduling', 'AnalysisTime', 'ProcessParameters', 'Process', 'UserName', 'BatchID', 'EmailResults', 'ReportScheme', 'SampleReportEnable', 'SampleReportScheme', 'OverrideOptimise', 'AcquireQuantify', 'QuanQuanOpt', 'EnableQuanResultsDir', 'PrintOpenLynxReport', 'PrepInjectionVolume', 'OAQuantitation', 'OAQIntegrate', 'OAQCalibrate', 'OAQuantify', 'OAQPrintReport', 'OAQExportToLims', 'OAQUpdateMethod', 'OAAutoPurify', 'OAAnalyticalToPrep', 'OAPrepToAnalytical', 'OAFileSubmission', 'NumberOfPlates']\n{'UserName': 'MAD', 'QuanQuanOpt': '0', 'OAPrepToAnalytical': '0', 'OAQuantify': '0', 'EmailResults': '0', 'ReportScheme': 'C:\\\\MassLynx\\\\BIIB.ors', 'AcquireQuantify': '0', 'MSTune': 'default', 'OAFileSubmission': '2', 'OAAutoPurify': '0', 'OAQCalibrate': '0', 'EconomyScheduling': '0', 'OverrideOptimise': '0', 'BatchID': 'MAD21', 'LCMethod': 'Col2_BEHC18_TFA_05_95_4min', 'ProcessParameters': 'C:\\\\MassLynx\\\\5_95_TFA_4m.olp', 'SampleReportEnable': '1', 'OAQPrintReport': '0', 'OAAnalyticalToPrep': '0', 'NumberOfPlates': '1', 'SampleReportScheme': 'C:\\\\MassLynx\\\\BIIB.ors', 'PriorityScheduling': '0', 'PrintOpenLynxReport': '1', 'OAQIntegrate': '0', 'PrepInjectionVolume': '1000.00', 'Process': 'C:\\\\MassLynx\\\\OpenLynx.exe', 'OAQExportToLims': '0', 'EnableQuanResultsDir': '0', 'OAQuantitation': '0', 'MSMethod': 'QDa POS 4min', 'AnalysisTime': '0.00', 'OAQUpdateMethod': '0'}\n['PlatePosition', 'JobCode', 'UserName', 'Rows', 'Columns', 'Track', 'NumberOfWells', 'NumberOfCompounds']\n{'UserName': 'MAD', 'Rows': '8', 'Track': 'R', 'JobCode': 'MAD21', 'NumberOfWells': '1', 'NumberOfCompounds': '0', 'PlatePosition': '4', 'Columns': '12'}\n['Well', 'Reinjections', 'SampleDescription', 'SampleID', 'MSDataName', 'SampleType', 'MSInjectionVolume', 'SubjectTime', 'NumberOfMasses', 'Mass1', 'NumberOfCompounds', 'NumberOfWaveLengths', 'Wavelength1', 'NumberOfMassFractionTriggers', 'NumberOfPDAFractionTriggers', 'NumberOfAnalogFractionTriggers', 'NumberOfUVFractionTriggers', 'NumberOfConcs', 'NumberOfFormulae', 'NumberOfFactors', 'NumberOfUserFields', 'RetentionTimeOffset', 'PrepInjectionVolume']\n{'NumberOfCompounds': '0', 'NumberOfUVFractionTriggers': '0', 'SampleID': '100080-045-P4_LLE1_TFA_4', 'SampleType': '0', 'NumberOfFactors': '0', 'NumberOfMasses': '1', 'NumberOfUserFields': '0', 'SampleDescription': 'QC LLE org layer', 'RetentionTimeOffset': '0', 'NumberOfConcs': '0', 'MSDataName': 'MAD21-1', 'SubjectTime': '0.0000', 'NumberOfMassFractionTriggers': '0', 'Mass1': '341.2', 'Reinjections': '0', 'NumberOfPDAFractionTriggers': '0', 'Well': '4', 'Wavelength1': '254.0', 'MSInjectionVolume': '1.0000', 'NumberOfFormulae': '0', 'PrepInjectionVolume': '0.0000', 'NumberOfAnalogFractionTriggers': '0', 'NumberOfWaveLengths': '1'}\n"
     ]
    }
   ],
   "source": [
    "import openpyxl\n",
    "from openeye.oechem import *\n",
    "import os, sys,parse\n",
    "from openpyxl import load_workbook,Workbook\n",
    "\n",
    "working_directory = \"/Users/jfeng1/forMichaelD/Lynx\"\n",
    "example_olb_file = os.path.join(working_directory,\"example_olb.xlsx\")\n",
    "wb = Workbook()\n",
    "wb = load_workbook(example_olb_file)\n",
    "active_sheet = wb.get_active_sheet()\n",
    "\n",
    "batch_keys = []\n",
    "batch_dict = {}\n",
    "\n",
    "plate_keys = []\n",
    "plate_dict = {}\n",
    "\n",
    "sample_keys = []\n",
    "sample_dict = {}\n",
    "\n",
    "section_tag = None\n",
    "current_plate_id = None\n",
    "current_sample_id = None\n",
    "for cell in active_sheet.columns.next():\n",
    "    if cell.value is not None:\n",
    "        if cell.value == \"[Batch]\":\n",
    "            section_tag = \"batch\"\n",
    "            continue\n",
    "            \n",
    "        plateRes = parse.parse(\"[Plate:{}]\",cell.value)\n",
    "        if plateRes is not None:\n",
    "            section_tag = \"plate\"\n",
    "            current_plate_id = plateRes[0]\n",
    "            continue    \n",
    "        \n",
    "        sampleRes = parse.parse(\"[Sample:{}:{}]\",cell.value)\n",
    "        if sampleRes is not None:\n",
    "            print sampleRes[1]\n",
    "            section_tag = \"sample\"\n",
    "            current_sample_id = sampleRes[1]\n",
    "            continue\n",
    "            \n",
    "        args = cell.value.split(\"=\")\n",
    "        if len(args)==2:\n",
    "            key = args[0].encode(\"utf-8\")\n",
    "            value = args[1].encode(\"utf-8\")\n",
    "            print section_tag\n",
    "            if section_tag == \"batch\":\n",
    "                if key not in batch_keys:\n",
    "                    batch_keys.append(key)\n",
    "                    batch_dict[key] = value\n",
    "                    continue\n",
    "            if section_tag == \"plate\":\n",
    "                if key not in plate_keys:\n",
    "                    plate_keys.append(key)\n",
    "                    plate_dict[key] = value\n",
    "            if section_tag == \"sample\":\n",
    "                if key not in sample_keys:\n",
    "                    sample_keys.append(key)\n",
    "                    sample_dict[key] = value\n",
    "    \n",
    "print batch_keys    \n",
    "print batch_dict\n",
    "print plate_keys\n",
    "print plate_dict\n",
    "print sample_keys\n",
    "print sample_dict"
   ]
  },
  {
   "cell_type": "code",
   "execution_count": 3,
   "metadata": {},
   "outputs": [
    {
     "name": "stdout",
     "output_type": "stream",
     "text": [
      "jfeng1\n{'UserName': 'MAD', 'Rows': '8', 'Track': 'R', 'JobCode': 'MAD21', 'NumberOfWells': '1', 'NumberOfCompounds': '0', 'PlatePosition': '4', 'Columns': '12'}\n"
     ]
    }
   ],
   "source": [
    "# batch_keys = ['MSMethod','MSTune','LCMethod','Economy Scheduling','AnalysisTime',\n",
    "#               'ProcessParameters','UserName','BatchID','UserAddress',\n",
    "#               'SampleReportEnable','NumberOfPlates',\n",
    "#               'InletPreRunMethod','InletPostRunMethod',\n",
    "#               'InletSwitchMethod','ReportScheme','HPLCMethod',\n",
    "#               'FractionMethod','AcquProcess','AcquProcessParameters',\n",
    "#               'AcquProcessOptions',\n",
    "#               'SampleReportScheme','ActionOnError',\n",
    "#               'LabName','EmailResults','UserAddress',\n",
    "#               'QuanLynxMethod','OAQuanMethDB',\n",
    "#               'OverrideOptimise','AcquireQuantify']\n",
    "# \n",
    "# plate_keys = ['PlateID','PlatePosition','Origin','JobCode',\n",
    "#               'UserName','Rows','Columns','Track','NumberOfWells']\n",
    "# \n",
    "# sample_keys = ['Well','SampleType','InletPreRunMethod','InletPostRunMethod',\n",
    "#                'NumberOfMasses','Mass%d',\n",
    "#                'NumberOfMassFractionTriggers','Fraction%d',\n",
    "#                'NumberOfFormulae','Formula%d',\n",
    "#                'NumberOfWavelengths','Wavelength%d',\n",
    "#                'NumberOfConcs','Conc%d',\n",
    "#                'NumberOfFactors','Factor%d',\n",
    "#                'SampleID','SampleDescription','SampleGroup','QuanRef','Conditions',\n",
    "#                'MSDataName','MSInjectionVolume',\n",
    "#                'NumberOfUserFields','Users%d']\n",
    "\n",
    "import getpass\n",
    "print getpass.getuser()\n",
    "\n",
    "sdf = os.path.join(working_directory,\"th-100042-361.sdf\")\n",
    "ifs = oemolistream()\n",
    "ifs.open(sdf)\n",
    "mol = OEGraphMol()\n",
    "molList = []\n",
    "while OEReadMolecule(ifs,mol):\n",
    "    molList.append(OEGraphMol(mol))\n",
    "ifs.close()\n",
    "\n",
    "print plate_dict\n",
    "olbfile = open(os.path.join(working_directory,\"my_third.olb\"),\"w\")\n",
    "olbfile.write(\"[Batch]\\r\\n\")\n",
    "for batch_key in batch_keys:\n",
    "    if batch_dict.has_key(batch_key):\n",
    "        olbfile.write(\"%s=%s\\r\\n\"%(batch_key,batch_dict[batch_key]))\n",
    "    else:\n",
    "        olbfile.write(\"%s=\\r\\n\"%batch_key)\n",
    "\n",
    "olbfile.write(\"[Plate:1]\\r\\n\")\n",
    "plate_dict[\"NumberOfCompounds\"] = \"%d\"%len(molList)\n",
    "for plate_key in plate_keys:\n",
    "    if plate_dict.has_key(plate_key):\n",
    "        olbfile.write(\"%s=%s\\r\\n\"%(plate_key,plate_dict[plate_key]))\n",
    "    else:\n",
    "        olbfile.write(\"%s=\\r\\n\"%plate_key)\n",
    "\n",
    "row_names = ['A','B','C','D','E','F','G','H']\n",
    "column_names = ['1','2','3','4','5','6','7','8','9','10','11','12']\n",
    "for id,mol in enumerate(molList):\n",
    "    row = row_names[id%8]\n",
    "    column = column_names[id/8]\n",
    "    sample_dict['Well'] = \"%s%s\"%(row,column)\n",
    "    olbfile.write(\"[Sample:1:%d]\\r\\n\"%(id+1))\n",
    "    molDict = {}\n",
    "    for sd in OEGetSDDataIter(mol):\n",
    "        molDict[sd.GetTag()]=sd.GetValue()\n",
    "    sample_dict[\"SampleID\"] = molDict[\"Compound ID\"]\n",
    "    sample_dict[\"Mass1\"] = molDict[\"EM\"]\n",
    "    for sample_key in sample_keys:\n",
    "        if sample_dict.has_key(sample_key):\n",
    "            olbfile.write(\"%s=%s\\r\\n\"%(sample_key,sample_dict[sample_key]))\n",
    "        else:\n",
    "            olbfile.write(\"%s=\\r\\n\"%sample_key)\n",
    "            \n",
    "olbfile.close()"
   ]
  },
  {
   "cell_type": "code",
   "execution_count": 24,
   "metadata": {},
   "outputs": [],
   "source": [
    ""
   ]
  },
  {
   "cell_type": "code",
   "execution_count": null,
   "metadata": {},
   "outputs": [],
   "source": [
    ""
   ]
  },
  {
   "cell_type": "code",
   "execution_count": null,
   "metadata": {},
   "outputs": [],
   "source": [
    ""
   ]
  },
  {
   "cell_type": "code",
   "execution_count": null,
   "metadata": {},
   "outputs": [],
   "source": [
    ""
   ]
  },
  {
   "cell_type": "code",
   "execution_count": null,
   "metadata": {},
   "outputs": [],
   "source": [
    ""
   ]
  },
  {
   "cell_type": "code",
   "execution_count": null,
   "metadata": {},
   "outputs": [],
   "source": [
    ""
   ]
  },
  {
   "cell_type": "code",
   "execution_count": null,
   "metadata": {},
   "outputs": [],
   "source": [
    ""
   ]
  },
  {
   "cell_type": "code",
   "execution_count": null,
   "metadata": {},
   "outputs": [],
   "source": [
    ""
   ]
  },
  {
   "cell_type": "code",
   "execution_count": null,
   "metadata": {},
   "outputs": [],
   "source": [
    ""
   ]
  },
  {
   "cell_type": "code",
   "execution_count": null,
   "metadata": {},
   "outputs": [],
   "source": [
    ""
   ]
  },
  {
   "cell_type": "code",
   "execution_count": null,
   "metadata": {},
   "outputs": [],
   "source": [
    ""
   ]
  }
 ],
 "metadata": {
  "kernelspec": {
   "display_name": "Python 2",
   "language": "python",
   "name": "python2"
  },
  "language_info": {
   "codemirror_mode": {
    "name": "ipython",
    "version": 2.0
   },
   "file_extension": ".py",
   "mimetype": "text/x-python",
   "name": "python",
   "nbconvert_exporter": "python",
   "pygments_lexer": "ipython2",
   "version": "2.7.6"
  }
 },
 "nbformat": 4,
 "nbformat_minor": 0
}