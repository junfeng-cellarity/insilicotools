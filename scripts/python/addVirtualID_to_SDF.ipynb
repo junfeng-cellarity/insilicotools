{
 "cells": [
  {
   "cell_type": "code",
   "execution_count": 9,
   "metadata": {
    "collapsed": true,
    "ExecuteTime": {
     "end_time": "2023-05-25T22:14:09.707052148Z",
     "start_time": "2023-05-25T22:14:09.665928376Z"
    }
   },
   "outputs": [
    {
     "name": "stdout",
     "output_type": "stream",
     "text": [
      "{'5TOZ': 'V319958', '4E93': 'V87918', '1FGI': 'V320268', '1KSW': 'V320269', '1QPC': 'V320270', '1XBB': 'V36298', '1XKK': 'V36315', '1Y6A': 'V320272', '1Y6B': 'V320273', '1Y57': 'V320271', '1YOL': 'V320274', '1YOM': 'V64327', '2BDJ': 'V320275', '2ETM': 'V320277', '2FGI': 'V57517', '2H8H': 'V69005', '2HWO': 'V320279', '2ITW': 'V320282', '2ITU': 'V320282', '2ITQ': 'V320282', '2ITX': 'V320280', '2ITV': 'V320280', '2ITN': 'V320280', '2J0M': 'V319887', '2J0J': 'V319887', '2JIU': 'V69944', '2J6M': 'V69944', '2ITT': 'V69944', '2ITP': 'V69944', '2JIV': 'V320283', '3W2Q': 'V320283', '2JKM': 'V320284', '2JKQ': 'V320285', '2OF2': 'V320286', '2OF4': 'V320287', '2OFU': 'V320288', '2OZO': 'V320278', '4K2R': 'V320278', '2GS7': 'V320278', '6WAK': 'V320278', '6DUK': 'V320278', '2SRC': 'V320278', '2QLQ': 'V320289', '2QQ7': 'V320290', '2XIR': 'V320291', '2XYN': 'V43962', '2ZM4': 'V320292', '3AC1': 'V320293', '3AC2': 'V320294', '3AC3': 'V320295', '3AC4': 'V320296', '3AC5': 'V320297', '3AC8': 'V320298', '3ACK': 'V320299', '3AD4': 'V320300', '3AD5': 'V320301', '3AD6': 'V320302', '3BYM': 'V320303', '3BYO': 'V89368', '3CJF': 'V320304', '3CJG': 'V320305', '3D7T': 'V78901', '3CD3': 'V78901', '3CBL': 'V78901', '3BKB': 'V78901', '2DQ7': 'V78901', '1XBC': 'V78901', '1U59': 'V78901', '1QPJ': 'V78901', '1BYG': 'V78901', '3DQX': 'V130141', '6P8Q': 'V130141', '3EMG': 'V320306', '3EN7': 'V320307', '3EQP': 'V320308', '3EQR': 'V320309', '3ET7': 'V320310', '3F6X': 'V320311', '3FQE': 'V89409', '3FQH': 'V320312', '3FQS': 'V36874', '3FZR': 'V267601', '3G5D': 'V35954', '4XLI': 'V35954', '5H2U': 'V35954', '3H3C': 'V320313', '6YVY': 'V320313', '3HMI': 'V178408', '3KMM': 'V320314', '3KXZ': 'V320315', '3LOK': 'V70458', '4LQM': 'V70458', '2HWP': 'V70458', '3LZB': 'V320316', '3PXK': 'V320317', '3SRV': 'V320318', '3UG2': 'V320281', '2ITZ': 'V320281', '2ITY': 'V320281', '4I22': 'V320281', '2ITO': 'V320281', '4WKQ': 'V320281', '3UQG': 'V320319', '3VF8': 'V320320', '3VID': 'V320321', '3VJN': 'V320276', '3KEX': 'V320276', '3GT8': 'V320276', '2EB3': 'V320276', '4FL3': 'V320276', '7LTX': 'V320276', '5D41': 'V320276', '7K1I': 'V320276', '7JXQ': 'V320276', '7JXM': 'V320276', '6P1L': 'V320276', '6P1D': 'V320276', '5CNO': 'V320276', '3VJO': 'V320276', '4AT3': 'V320322', '4DFL': 'V320323', '4DFN': 'V320324', '4EWH': 'V320325', '4F4P': 'V320326', '4F63': 'V320327', '4F64': 'V122627', '4F65': 'V320328', '4FYN': 'V320329', '4FYO': 'V320330', '4FZ6': 'V320331', '4FZ7': 'V320332', '4G5P': 'V320333', '4G5J': 'V320333', '4GFG': 'V180615', '4GU6': 'V320334', '4GU9': 'V320335', '4HJO': 'V35937', '1M17': 'V35937', '4I0R': 'V320336', '4I0S': 'V320337', '4I0T': 'V320338', '4I24': 'V320339', '4JQ7': 'V320340', '4JQ8': 'V320341', '4JR3': 'V320342', '4JRV': 'V320343', '4LI5': 'V320344', '4LRM': 'V89147', '4LL0': 'V89147', '4MCV': 'V320345', '4MXZ': 'V36598', '4MXY': 'V36598', '4MXO': 'V36598', '6OP9': 'V36598', '4NKS': 'V123589', '4O2P': 'V320346', '4PMT': 'V320347', '4PUZ': 'V267443', '4PV0': 'V320348', '4PX6': 'V320349', '4Q9S': 'V320350', '4R5S': 'V320351', '4RIW': 'V319921', '2IJM': 'V319921', '6F3F': 'V319921', '4RJ4': 'V320353', '4RJ5': 'V320354', '4RJ6': 'V320355', '4RJ7': 'V320356', '4RJ8': 'V320357', '4RT7': 'V76197', '4RX7': 'V320358', '4RX8': 'V88994', '4RX9': 'V84301', '4TYI': 'V80137', '4U5J': 'V36532', '4UEU': 'V320359', '4V05': 'V320360', '4WD5': 'V320361', '4WNM': 'V320362', '4WUN': 'V69408', '4RWK': 'V69408', '4YBJ': 'V320363', '4YJO': 'V320364', '4YJP': 'V320365', '4YJQ': 'V320366', '4YJR': 'V320367', '4YJS': 'V320368', '4YJT': 'V320369', '4YJU': 'V320370', '4YJV': 'V320371', '4YMJ': 'V320372', '4YNE': 'V320373', '4YPS': 'V320374', '4ZSA': 'V320375', '4ZSE': 'V320376', '5CNN': 'V320376', '5A4C': 'V320377', '5AMN': 'V71187', '5C8K': 'V320380', '5C8M': 'V320381', '5C8N': 'V320382', '5C26': 'V320378', '5C27': 'V320379', '5CAL': 'V320383', '5CAN': 'V320384', '5CAO': 'V320385', '5CAP': 'V320386', '5CAQ': 'V320387', '5CAU': 'V320389', '5CAV': 'V320388', '5CAS': 'V320388', '5CXH': 'V320390', '5CXZ': 'V320391', '5CY3': 'V320392', '5D10': 'V320393', '5D11': 'V320394', '5D12': 'V320395', '5EM5': 'V320396', '5EM6': 'V320397', '5EM8': 'V320398', '5EM7': 'V320398', '5FEE': 'V320399', '5FED': 'V320399', '5FEQ': 'V320400', '5GMP': 'V320401', '5GNK': 'V320402', '5GTZ': 'V320403', '5HCX': 'V320404', '5HCY': 'V320405', '5HCZ': 'V320406', '5HG5': 'V320407', '5HG7': 'V320408', '5HG8': 'V320409', '5HG9': 'V320410', '5HIB': 'V320411', '5HIC': 'V320412', '5I8A': 'V320413', '5J9Y': 'V320414', '5J9Z': 'V320415', '5JKG': 'V267531', '5XFJ': 'V267531', '5XFF': 'V267531', '5K9I': 'V320416', '5KVT': 'V36975', '5LMA': 'V320417', '5LMB': 'V320418', '5NWZ': 'V320419', '5T0P': 'V320420', '5T68': 'V320421', '5TIU': 'V320422', '5TO8': 'V320423', '5TOB': 'V267603', '3BZ3': 'V267603', '5TR6': 'V131795', '5TT7': 'V320424', '5U8L': 'V320425', '5UG8': 'V320426', '5UG9': 'V320427', '5UGA': 'V320428', '5UGB': 'V320428', '5UR1': 'V320430', '5UWD': 'V320431', '5X2A': 'V320432', '5X26': 'V320432', '5X2F': 'V320434', '5X28': 'V320434', '5X27': 'V320433', '5XDL': 'V56889', '5XDK': 'V56889', '5XGN': 'V62752', '5XGM': 'V62752', '5XP7': 'V320436', '5Y25': 'V320437', '5YU9': 'V36629', '5Z0S': 'V320438', '6ATE': 'V320440', '6C1B': 'V320442', '6C1C': 'V320443', '6C1O': 'V120794', '6C18': 'V320441', '6D8E': 'V320444', '6E6E': 'V320445', '6FEK': 'V35662', '6HM6': 'V320446', '6HM7': 'V320447', '6HVE': 'V320448', '6HVF': 'V320449', '6I8Z': 'V181628', '6IQN': 'V320450', '6J5L': 'V320451', '6JMF': 'V320452', '6JRK': 'V320453', '6JRJ': 'V320453', '6JRX': 'V320439', '5ZTO': 'V320439', '6JZ0': 'V233121', '6LUB': 'V320454', '6LUD': 'V36818', '6JXT': 'V36818', '6JX4': 'V36818', '6JX0': 'V36818', '6JWL': 'V36818', '4ZAU': 'V36818', '7K1H': 'V36818', '7JXW': 'V36818', '6S8A': 'V320456', '6S9B': 'V320457', '6S9C': 'V320458', '6S9D': 'V320459', '6S89': 'V320455', '6SSB': 'V320460', '6TFV': 'V320461', '6TFW': 'V320462', '6TFY': 'V320463', '6TFZ': 'V320464', '6V5N': 'V320465', '6V5P': 'V320466', '6VH4': 'V320469', '6V6O': 'V320469', '6VHN': 'V320468', '6V6K': 'V320468', '6VHP': 'V320467', '6V66': 'V320467', '6VOV': 'V131798', '6VQM': 'V320470', '6YOJ': 'V71556', '6YQ1': 'V320472', '6YR9': 'V320473', '6YT6': 'V320474', '6YVS': 'V320475', '6YXV': 'V320476', '6Z4B': 'V320471', '6XL4': 'V320471', '7LGS': 'V320471', '6Z4D': 'V320429', '7JXK': 'V320429', '7JXI': 'V320429', '5UGC': 'V320429', '6ZC0': 'V320477', '6ZCP': 'V320478', '6ZCQ': 'V320479', '6ZCS': 'V320480', '6ZCU': 'V319949', '6ZCR': 'V319949', '6ZCX': 'V320481', '6ZCY': 'V320482', '7A2A': 'V320483', '7A6J': 'V320484', '7AEI': 'V320486', '7AH3': 'V320487', '7B85': 'V320485', '7A6K': 'V320485', '7T4J': 'V320485', '7T4I': 'V320485', '7D57': 'V320488', '7ER2': 'V320489', '7JXL': 'V180928', '7KP6': 'V320490', '7KY0': 'V320491', '7KXZ': 'V320491', '7NG7': 'V88663', '7OXB': 'V320492', '7U98': 'V320493', '7U99': 'V320494', '7UKW': 'V320495', '7UKV': 'V320495', '7UY0': 'V89244', '7V29': 'V320496', '7VRA': 'V320497', '7VRE': 'V320498', '7WCX': 'V320499', '7WCT': 'V320499', '7Z5W': 'V320500', '7Z5X': 'V320501', '7ZYM': 'V36847', '7ZYN': 'V71783', '5X2K': 'V71783', '7ZYP': 'V320502', '7ZYQ': 'V320503', '8D73': 'V320504', '8D76': 'V320505'}\n"
     ]
    },
    {
     "name": "stderr",
     "output_type": "stream",
     "text": [
      "[18:14:09] Explicit valence for atom # 5 O, 3, is greater than permitted\n",
      "[18:14:09] ERROR: Could not sanitize molecule ending on line 12405\n",
      "[18:14:09] ERROR: Explicit valence for atom # 5 O, 3, is greater than permitted\n",
      "[18:14:09] Explicit valence for atom # 31 F, 3, is greater than permitted\n",
      "[18:14:09] ERROR: Could not sanitize molecule ending on line 22967\n",
      "[18:14:09] ERROR: Explicit valence for atom # 31 F, 3, is greater than permitted\n"
     ]
    }
   ],
   "source": [
    "import rdkit\n",
    "from rdkit import Chem\n",
    "sdf_vid = \"/home/jfeng/Projects/Exploratory/Beyond_JAK_TYK2_with_VirtualID.sdf\"\n",
    "sd_reader = Chem.SDMolSupplier(sdf_vid)\n",
    "name_dict = {}\n",
    "for mol in sd_reader:\n",
    "    if mol is not None:\n",
    "        names = mol.GetProp(\"Name (undefined)\")\n",
    "        id = mol.GetProp(\"ID\")\n",
    "        for name in names.split():\n",
    "            name_dict[name.strip()] = id\n",
    "print(name_dict)"
   ]
  },
  {
   "cell_type": "code",
   "execution_count": 10,
   "outputs": [
    {
     "name": "stdout",
     "output_type": "stream",
     "text": [
      "V319921\n",
      "V319921\n",
      "V319921\n"
     ]
    }
   ],
   "source": [
    "print(name_dict['4RIW'])\n",
    "print(name_dict['2IJM'])\n",
    "print(name_dict['6F3F'])"
   ],
   "metadata": {
    "collapsed": false,
    "ExecuteTime": {
     "end_time": "2023-05-25T22:14:13.923742777Z",
     "start_time": "2023-05-25T22:14:13.921033386Z"
    }
   }
  },
  {
   "cell_type": "code",
   "execution_count": 12,
   "outputs": [
    {
     "name": "stderr",
     "output_type": "stream",
     "text": [
      "[18:14:34] Explicit valence for atom # 5 O, 3, is greater than permitted\n",
      "[18:14:34] ERROR: Could not sanitize molecule ending on line 14030\n",
      "[18:14:34] ERROR: Explicit valence for atom # 5 O, 3, is greater than permitted\n",
      "[18:14:34] Explicit valence for atom # 5 O, 3, is greater than permitted\n",
      "[18:14:34] ERROR: Could not sanitize molecule ending on line 14115\n",
      "[18:14:34] ERROR: Explicit valence for atom # 5 O, 3, is greater than permitted\n",
      "[18:14:34] Explicit valence for atom # 31 F, 3, is greater than permitted\n",
      "[18:14:34] ERROR: Could not sanitize molecule ending on line 25604\n",
      "[18:14:34] ERROR: Explicit valence for atom # 31 F, 3, is greater than permitted\n",
      "[18:14:34] Explicit valence for atom # 24 N, 4, is greater than permitted\n",
      "[18:14:34] ERROR: Could not sanitize molecule ending on line 27695\n",
      "[18:14:34] ERROR: Explicit valence for atom # 24 N, 4, is greater than permitted\n"
     ]
    }
   ],
   "source": [
    "sdf_3d = \"/home/jfeng/Projects/Exploratory/BeyondJAK_TYK2/BeyondJAK_TYK2_aligned_simplified.sdf\"\n",
    "sd_reader2 = Chem.SDMolSupplier(sdf_3d)\n",
    "sd_writer = Chem.SDWriter(\"/home/jfeng/Projects/Exploratory/BeyondJAK_TYK2/BeyondJAK_TYK2_aligned_simplified_with_virtual_id.sdf\")\n",
    "for mol in sd_reader2:\n",
    "    if mol is not None:\n",
    "        pdb_name = mol.GetProp(\"s_pdb_PDB_ID\")\n",
    "        id = name_dict[pdb_name]\n",
    "        mol.SetProp(\"VirtualID\",id)\n",
    "        sd_writer.write(mol)"
   ],
   "metadata": {
    "collapsed": false,
    "ExecuteTime": {
     "end_time": "2023-05-25T22:14:34.687178572Z",
     "start_time": "2023-05-25T22:14:34.576947066Z"
    }
   }
  },
  {
   "cell_type": "code",
   "execution_count": null,
   "outputs": [],
   "source": [],
   "metadata": {
    "collapsed": false
   }
  }
 ],
 "metadata": {
  "kernelspec": {
   "display_name": "Python 3",
   "language": "python",
   "name": "python3"
  },
  "language_info": {
   "codemirror_mode": {
    "name": "ipython",
    "version": 2
   },
   "file_extension": ".py",
   "mimetype": "text/x-python",
   "name": "python",
   "nbconvert_exporter": "python",
   "pygments_lexer": "ipython2",
   "version": "2.7.6"
  }
 },
 "nbformat": 4,
 "nbformat_minor": 0
}
