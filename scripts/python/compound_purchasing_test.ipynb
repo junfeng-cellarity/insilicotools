{
 "cells": [
  {
   "cell_type": "code",
   "execution_count": 2,
   "metadata": {
    "collapsed": true,
    "ExecuteTime": {
     "end_time": "2023-06-12T15:11:01.315197564Z",
     "start_time": "2023-06-12T15:11:01.206762560Z"
    }
   },
   "outputs": [],
   "source": [
    "import rdkit\n",
    "import pandas"
   ]
  },
  {
   "cell_type": "code",
   "execution_count": 3,
   "outputs": [
    {
     "name": "stdout",
     "output_type": "stream",
     "text": [
      "6599\n"
     ]
    }
   ],
   "source": [
    "sdf = \"/home/jfeng/Projects/ChemicalSpace/6k_3.sdf\"\n",
    "sd_reader = rdkit.Chem.SDMolSupplier(sdf)\n",
    "count = 0\n",
    "for mol in sd_reader:\n",
    "    count += 1\n",
    "print(count)"
   ],
   "metadata": {
    "collapsed": false,
    "ExecuteTime": {
     "end_time": "2023-06-12T15:12:33.828281769Z",
     "start_time": "2023-06-12T15:12:32.876290368Z"
    }
   }
  },
  {
   "cell_type": "code",
   "execution_count": 7,
   "outputs": [],
   "source": [
    "from rdkit.Chem import PandasTools\n",
    "df = PandasTools.LoadSDF(sdf)"
   ],
   "metadata": {
    "collapsed": false,
    "ExecuteTime": {
     "end_time": "2023-06-12T15:19:12.003500715Z",
     "start_time": "2023-06-12T15:19:10.061335413Z"
    }
   }
  },
  {
   "cell_type": "code",
   "execution_count": null,
   "outputs": [],
   "source": [],
   "metadata": {
    "collapsed": false
   }
  }
 ],
 "metadata": {
  "kernelspec": {
   "display_name": "Python 3",
   "language": "python",
   "name": "python3"
  },
  "language_info": {
   "codemirror_mode": {
    "name": "ipython",
    "version": 2
   },
   "file_extension": ".py",
   "mimetype": "text/x-python",
   "name": "python",
   "nbconvert_exporter": "python",
   "pygments_lexer": "ipython2",
   "version": "2.7.6"
  }
 },
 "nbformat": 4,
 "nbformat_minor": 0
}
