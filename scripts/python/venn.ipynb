{
 "cells": [
  {
   "cell_type": "code",
   "execution_count": 12,
   "metadata": {
    "collapsed": true
   },
   "outputs": [],
   "source": [
    "import matplotlib_venn\n",
    "from openeye.oechem import *\n",
    "from matplotlib_venn import venn3,venn3_circles\n",
    "from matplotlib import pyplot as plt\n",
    "sdf = \"/Users/jfeng1/BiogenDB/Evotec/evotec_properties.sdf\""
   ]
  },
  {
   "cell_type": "code",
   "execution_count": 14,
   "metadata": {},
   "outputs": [],
   "source": [
    "ifs = oemolistream()\n",
    "ifs.open(sdf)\n",
    "mol = OEGraphMol()\n",
    "lead_like = []\n",
    "cns_like = []\n",
    "all = []\n",
    "n = 0\n",
    "while OEReadMolecule(ifs,mol):\n",
    "    is_lead_like = (float(OEGetSDData(mol, \"Lead-Like\"))>0.99)\n",
    "    is_cns_like =  (float(float(OEGetSDData(mol, \"CNS-Like\"))>0.99))\n",
    "    if is_lead_like:\n",
    "        lead_like.append(mol.GetTitle())\n",
    "    if is_cns_like:\n",
    "        cns_like.append(mol.GetTitle())\n",
    "    all.append(mol.GetTitle())\n",
    "    n += 1\n",
    "ifs.close()\n"
   ]
  },
  {
   "cell_type": "code",
   "execution_count": 47,
   "metadata": {},
   "outputs": [
    {
     "name": "stdout",
     "output_type": "stream",
     "text": [
      "['__doc__', '__init__', '__module__', 'centers', 'get_circle_center', 'get_circle_radius', 'get_label_by_id', 'get_patch_by_id', 'hide_zeroes', 'id2idx', 'patches', 'radii', 'set_labels', 'subset_labels']\n"
     ]
    }
   ],
   "source": [
    "from matplotlib_venn import venn3_unweighted\n",
    "v = venn3_unweighted([set(lead_like),set(cns_like),set(all)],(\"Lead-Like\",\"CNS-Like\",\"All\"))\n",
    "print dir(v)\n",
    "v.patches[4].set_facecolor(\"green\")\n",
    "v.patches[5].set_facecolor(\"red\")\n",
    "v.patches[6].set_facecolor(\"yellow\")\n",
    "\n",
    "plt.show()    \n"
   ]
  },
  {
   "cell_type": "code",
   "execution_count": 46,
   "metadata": {},
   "outputs": [],
   "source": []
  },
  {
   "cell_type": "code",
   "execution_count": 46,
   "metadata": {},
   "outputs": [],
   "source": []
  },
  {
   "cell_type": "code",
   "execution_count": null,
   "metadata": {},
   "outputs": [],
   "source": []
  }
 ],
 "metadata": {
  "kernelspec": {
   "display_name": "Python 2",
   "language": "python",
   "name": "python2"
  },
  "language_info": {
   "codemirror_mode": {
    "name": "ipython",
    "version": 2
   },
   "file_extension": ".py",
   "mimetype": "text/x-python",
   "name": "python",
   "nbconvert_exporter": "python",
   "pygments_lexer": "ipython2",
   "version": "2.7.6"
  }
 },
 "nbformat": 4,
 "nbformat_minor": 0
}
