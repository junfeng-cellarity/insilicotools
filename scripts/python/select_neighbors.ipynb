{
 "cells": [
  {
   "cell_type": "code",
   "execution_count": 12,
   "metadata": {
    "collapsed": true
   },
   "outputs": [],
   "source": [
    "from openeye.oechem import *\n",
    "from openeye.oegraphsim import *\n",
    "import os,sys\n",
    "original_file = \"/Users/jfeng1/Datasets/ADME_COMPOUNDS_Selection/biogen_diverse_0.16.sdf\"\n",
    "resource_file = \"/Users/jfeng1/Datasets/ADME_COMPOUNDS_Selection/biogen_chiral_pure_90uL_0.1mg.sdf\"\n"
   ]
  },
  {
   "cell_type": "code",
   "execution_count": 13,
   "metadata": {},
   "outputs": [
    {
     "name": "stdout",
     "output_type": "stream",
     "text": [
      "237271\n"
     ]
    }
   ],
   "source": [
    "ifs = oemolistream()\n",
    "ifs.open(resource_file)\n",
    "mol = OEGraphMol()\n",
    "mols = []\n",
    "while OEReadMolecule(ifs,mol):\n",
    "    mols.append(OEGraphMol(mol))\n",
    "ifs.close()\n",
    "print len(mols)"
   ]
  },
  {
   "cell_type": "code",
   "execution_count": 14,
   "metadata": {},
   "outputs": [],
   "source": [
    "fingerprint_db = OEFPDatabase(OEFPType_Circular)\n",
    "emptyfp = OEFingerPrint()\n",
    "emptyfp.SetFPTypeBase(fingerprint_db.GetFPTypeBase())\n",
    "\n",
    "for idx,mol in enumerate(mols):\n",
    "    fingerprint_db.AddFP(mol)\n"
   ]
  },
  {
   "cell_type": "code",
   "execution_count": null,
   "metadata": {},
   "outputs": [
    {
     "ename": "NotImplementedError",
     "evalue": "Wrong number or type of arguments for overloaded function 'OESetSDData'.\n  Possible C/C++ prototypes are:\n    OEChem::OESetSDData(OEChem::OEMolBase &,std::string const &,std::string const &)\n    OEChem::OESetSDData(OEChem::OEMolBase &,OEChem::OESDDataPair const &)\n",
     "traceback": [
      "\u001b[0;31m\u001b[0m",
      "\u001b[0;31mNotImplementedError\u001b[0mTraceback (most recent call last)",
      "\u001b[0;32m<ipython-input-15-33d673a8d130>\u001b[0m in \u001b[0;36m<module>\u001b[0;34m()\u001b[0m\n\u001b[1;32m     25\u001b[0m             \u001b[0mnbr_mol\u001b[0m \u001b[0;34m=\u001b[0m \u001b[0mmols\u001b[0m\u001b[0;34m[\u001b[0m\u001b[0ms\u001b[0m\u001b[0;34m.\u001b[0m\u001b[0mGetIdx\u001b[0m\u001b[0;34m(\u001b[0m\u001b[0;34m)\u001b[0m\u001b[0;34m]\u001b[0m\u001b[0;34m\u001b[0m\u001b[0m\n\u001b[1;32m     26\u001b[0m             \u001b[0moechem\u001b[0m\u001b[0;34m.\u001b[0m\u001b[0mOESetSDData\u001b[0m\u001b[0;34m(\u001b[0m\u001b[0mnbr_mol\u001b[0m\u001b[0;34m,\u001b[0m\u001b[0;34m\"cluster_no\"\u001b[0m\u001b[0;34m,\u001b[0m\u001b[0mcluster\u001b[0m\u001b[0;34m)\u001b[0m\u001b[0;34m\u001b[0m\u001b[0m\n\u001b[0;32m---> 27\u001b[0;31m             \u001b[0moechem\u001b[0m\u001b[0;34m.\u001b[0m\u001b[0mOESetSDData\u001b[0m\u001b[0;34m(\u001b[0m\u001b[0mnbr_mol\u001b[0m\u001b[0;34m,\u001b[0m\u001b[0;34m\"cluster_nbr\"\u001b[0m\u001b[0;34m,\u001b[0m\u001b[0mnbr_count\u001b[0m\u001b[0;34m)\u001b[0m\u001b[0;34m\u001b[0m\u001b[0m\n\u001b[0m\u001b[1;32m     28\u001b[0m             \u001b[0mOEWriteMolecule\u001b[0m\u001b[0;34m(\u001b[0m\u001b[0mofs\u001b[0m\u001b[0;34m,\u001b[0m \u001b[0mnbr_mol\u001b[0m\u001b[0;34m)\u001b[0m\u001b[0;34m\u001b[0m\u001b[0m\n\u001b[1;32m     29\u001b[0m \u001b[0mifs\u001b[0m\u001b[0;34m.\u001b[0m\u001b[0mclose\u001b[0m\u001b[0;34m(\u001b[0m\u001b[0;34m)\u001b[0m\u001b[0;34m\u001b[0m\u001b[0m\n",
      "\u001b[0;32m/Users/jfeng1/.modeling_env/lib/python2.7/site-packages/openeye/oechem.pyc\u001b[0m in \u001b[0;36mOESetSDData\u001b[0;34m(*args)\u001b[0m\n\u001b[1;32m  23906\u001b[0m     \u001b[0mOESetSDData\u001b[0m\u001b[0;34m(\u001b[0m\u001b[0mOEMolBase\u001b[0m \u001b[0mmol\u001b[0m\u001b[0;34m,\u001b[0m \u001b[0mOESDDataPair\u001b[0m \u001b[0mdp\u001b[0m\u001b[0;34m)\u001b[0m \u001b[0;34m-\u001b[0m\u001b[0;34m>\u001b[0m \u001b[0mbool\u001b[0m\u001b[0;34m\u001b[0m\u001b[0m\n\u001b[1;32m  23907\u001b[0m     \"\"\"\n\u001b[0;32m> 23908\u001b[0;31m     \u001b[0;32mreturn\u001b[0m \u001b[0m_oechem\u001b[0m\u001b[0;34m.\u001b[0m\u001b[0mOESetSDData\u001b[0m\u001b[0;34m(\u001b[0m\u001b[0;34m*\u001b[0m\u001b[0margs\u001b[0m\u001b[0;34m)\u001b[0m\u001b[0;34m\u001b[0m\u001b[0m\n\u001b[0m\u001b[1;32m  23909\u001b[0m \u001b[0;34m\u001b[0m\u001b[0m\n\u001b[1;32m  23910\u001b[0m \u001b[0;32mdef\u001b[0m \u001b[0mOEAddSDData\u001b[0m\u001b[0;34m(\u001b[0m\u001b[0;34m*\u001b[0m\u001b[0margs\u001b[0m\u001b[0;34m)\u001b[0m\u001b[0;34m:\u001b[0m\u001b[0;34m\u001b[0m\u001b[0m\n",
      "\u001b[0;31mNotImplementedError\u001b[0m: Wrong number or type of arguments for overloaded function 'OESetSDData'.\n  Possible C/C++ prototypes are:\n    OEChem::OESetSDData(OEChem::OEMolBase &,std::string const &,std::string const &)\n    OEChem::OESetSDData(OEChem::OEMolBase &,OEChem::OESDDataPair const &)\n"
     ],
     "output_type": "error"
    }
   ],
   "source": [
    "\n",
    "output_file = \"/Users/jfeng1/Datasets/ADME_COMPOUNDS_Selection/neighbors.sdf\"\n",
    "\n",
    "ofs = oemolostream()\n",
    "ofs.open(output_file)\n",
    "\n",
    "ifs = oemolistream()\n",
    "ifs.open(original_file)\n",
    "mol = OEGraphMol()\n",
    "molCount = 0\n",
    "while OEReadMolecule(ifs,mol):\n",
    "    cluster = oechem.OEGetSDData(mol,\"cluster_no\")\n",
    "    molCount += 1\n",
    "    OEWriteMolecule(ofs,mol)\n",
    "    fp = OEFingerPrint()\n",
    "    OEMakeFP(fp,mol,OEFPType_Circular)\n",
    "    scores = fingerprint_db.GetSortedScores(fp, 10)\n",
    "    nbr_count = 0\n",
    "    nbr_max = 2\n",
    "    for s in scores:\n",
    "        if nbr_count>=2:\n",
    "            break\n",
    "        if s.GetScore() != 1.0:\n",
    "            nbr_count += 1\n",
    "            nbr_mol = mols[s.GetIdx()]\n",
    "            oechem.OESetSDData(nbr_mol,\"cluster_no\",cluster)\n",
    "            oechem.OESetSDData(nbr_mol,\"cluster_nbr\",str(nbr_count))\n",
    "            OEWriteMolecule(ofs, nbr_mol)\n",
    "ifs.close()\n",
    "\n",
    "ofs.close()\n"
   ]
  },
  {
   "cell_type": "code",
   "execution_count": 10,
   "metadata": {},
   "outputs": [],
   "source": []
  },
  {
   "cell_type": "code",
   "execution_count": null,
   "metadata": {},
   "outputs": [],
   "source": []
  }
 ],
 "metadata": {
  "kernelspec": {
   "display_name": "Python 2",
   "language": "python",
   "name": "python2"
  },
  "language_info": {
   "codemirror_mode": {
    "name": "ipython",
    "version": 2
   },
   "file_extension": ".py",
   "mimetype": "text/x-python",
   "name": "python",
   "nbconvert_exporter": "python",
   "pygments_lexer": "ipython2",
   "version": "2.7.6"
  }
 },
 "nbformat": 4,
 "nbformat_minor": 0
}
