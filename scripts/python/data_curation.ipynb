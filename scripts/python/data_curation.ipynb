{
 "cells": [
  {
   "cell_type": "code",
   "execution_count": null,
   "metadata": {},
   "outputs": [],
   "source": [
    "from openeye.oechem import *\n",
    "molecules = {}\n",
    "mol_names = []\n",
    "ifs = oemolistream()\n",
    "ifs.open(\"/home/jfeng/datasets/HTT/htt_tmp.sdf\")\n",
    "mol = OEGraphMol()\n",
    "while OEReadMolecule(ifs,mol):\n",
    "    mol_name = OEGetSDData(mol,\"Name\")\n",
    "    if mol_name not in mol_names:\n",
    "        mol_names.append(mol_name)\n",
    "        mol.SetTitle(mol_name)\n",
    "        molecules[mol_name] = OEGraphMol(mol)\n",
    "    else:\n",
    "        new_score = float(OEGetSDData(mol,\"r_phase_Volume_Score\"))\n",
    "        old_score = float(OEGetSDData(molecules[mol_name],\"r_phase_Volume_Score\"))\n",
    "        if new_score>old_score:\n",
    "            molecules[mol_name] = OEGraphMol(mol)\n",
    "ifs.close()\n",
    "\n",
    "ofs = oemolostream()\n",
    "ofs.open(\"/home/jfeng/datasets/HTT/htt_match_output2.sdf\")\n",
    "for mol_name in mol_names:\n",
    "    mol = molecules[mol_name]\n",
    "    OEWriteMolecule(ofs,mol)\n",
    "ofs.close()\n",
    "\n",
    "    \n",
    "    "
   ]
  },
  {
   "cell_type": "code",
   "execution_count": null,
   "metadata": {},
   "outputs": [],
   "source": []
  }
 ],
 "metadata": {
  "kernelspec": {
   "display_name": "Python 2",
   "language": "python",
   "name": "python2"
  },
  "language_info": {
   "codemirror_mode": {
    "name": "ipython",
    "version": 2
   },
   "file_extension": ".py",
   "mimetype": "text/x-python",
   "name": "python",
   "nbconvert_exporter": "python",
   "pygments_lexer": "ipython2",
   "version": "2.7.6"
  }
 },
 "nbformat": 4,
 "nbformat_minor": 0
}
