{
 "cells": [
  {
   "cell_type": "code",
   "execution_count": 1,
   "metadata": {
    "collapsed": true
   },
   "outputs": [
    {
     "name": "stdout",
     "output_type": "stream",
     "text": [
      "340140\n"
     ]
    }
   ],
   "source": [
    "from openeye.oechem import *\n",
    "from openeye.oegraphsim import *\n",
    "\n",
    "ifs = oemolistream()\n",
    "ifs.open(\"/Users/jfeng1/biogen_in_stock.sdf\")\n",
    "mol = OEGraphMol()\n",
    "simMatrix = {}\n",
    "mols = []\n",
    "while OEReadMolecule(ifs,mol):\n",
    "    mols.append(OEGraphMol(mol))\n",
    "ifs.close()\n",
    "print len(mols)\n"
   ]
  },
  {
   "cell_type": "code",
   "execution_count": 2,
   "metadata": {},
   "outputs": [],
   "source": [
    "fingerprint_db = OEFPDatabase(OEFPType_Circular)\n",
    "\n",
    "emptyfp = OEFingerPrint()\n",
    "emptyfp.SetFPTypeBase(fingerprint_db.GetFPTypeBase())\n",
    "\n",
    "for idx,mol in enumerate(mols):\n",
    "    fingerprint_db.AddFP(mol)"
   ]
  },
  {
   "cell_type": "code",
   "execution_count": null,
   "metadata": {
    "collapsed": false
   },
   "outputs": [
    {
     "name": "stderr",
     "output_type": "stream",
     "text": [
      "  0% |                                                                        |\r"
     ]
    },
    {
     "name": "stderr",
     "output_type": "stream",
     "text": [
      "  1% |                                                                        |\r"
     ]
    },
    {
     "name": "stderr",
     "output_type": "stream",
     "text": [
      "  2% |#                                                                       |\r"
     ]
    },
    {
     "name": "stderr",
     "output_type": "stream",
     "text": [
      "  3% |##                                                                      |\r"
     ]
    },
    {
     "name": "stderr",
     "output_type": "stream",
     "text": [
      "  4% |##                                                                      |\r"
     ]
    },
    {
     "name": "stderr",
     "output_type": "stream",
     "text": [
      "  5% |###                                                                     |\r"
     ]
    },
    {
     "name": "stderr",
     "output_type": "stream",
     "text": [
      "  6% |####                                                                    |\r"
     ]
    },
    {
     "name": "stderr",
     "output_type": "stream",
     "text": [
      "  7% |#####                                                                   |\r"
     ]
    },
    {
     "name": "stderr",
     "output_type": "stream",
     "text": [
      "  8% |#####                                                                   |\r"
     ]
    },
    {
     "name": "stderr",
     "output_type": "stream",
     "text": [
      "  9% |######                                                                  |\r"
     ]
    },
    {
     "name": "stderr",
     "output_type": "stream",
     "text": [
      " 10% |#######                                                                 |\r"
     ]
    }
   ],
   "source": [
    "cutoff = 0.1\n",
    "def getNeighbors(idx):\n",
    "    neighbors = []\n",
    "    mol = mols[idx]\n",
    "    numFps = fingerprint_db.NumFingerPrints()\n",
    "    fingerprint_db.SetCutoff(cutoff)\n",
    "    scores = fingerprint_db.GetScores(mol,0,numFps)\n",
    "    for score in scores:\n",
    "        if score.GetIdx()!=idx:\n",
    "            neighbors.append(score.GetIdx())\n",
    "    return (idx,neighbors)\n",
    "\n",
    "import time\n",
    "start = time.time()\n",
    "import progressbar\n",
    "import multiprocessing\n",
    "clusterDict = {}\n",
    "marker_dict = {}\n",
    "nProcessor = 5\n",
    "pool = multiprocessing.Pool(nProcessor)\n",
    "argList = []\n",
    "for idx,mol in enumerate(mols):\n",
    "    marker_dict[idx] = 0\n",
    "    argList.append(idx)\n",
    "\n",
    "progressbar = progressbar.ProgressBar(maxval=len(argList))\n",
    "rs = pool.map_async(getNeighbors,argList,chunksize=1)\n",
    "progressbar.start()\n",
    "while True:\n",
    "    if rs.ready():\n",
    "        break\n",
    "    else:\n",
    "        progress = len(argList)-rs._number_left\n",
    "        progressbar.update(progress)\n",
    "        time.sleep(0.5)\n",
    "result = rs.get()\n",
    "for idx,nbrList in result:\n",
    "    clusterDict[idx] = nbrList\n",
    "sortedList = sorted(clusterDict,key=lambda k:len(clusterDict[k]),reverse=True)\n",
    "#print sortedList\n",
    "end = time.time()\n",
    "print \n",
    "print end-start\n",
    "\n",
    "clusters = []\n",
    "cluster_0 = clusterDict[sortedList[0]]\n",
    "cluster_0.append(sortedList[0])\n",
    "clusters.append(cluster_0)\n",
    "for x in cluster_0:\n",
    "    marker_dict[x] = 1\n",
    "    \n",
    "for x in sortedList[1:]:\n",
    "    if marker_dict[x] == 1:\n",
    "        continue\n",
    "    else:\n",
    "        cluster = []\n",
    "        cluster.append(x)\n",
    "        marker_dict[x] = 1\n",
    "        for a in clusterDict[x]:\n",
    "            if marker_dict[a] ==0:\n",
    "                cluster.append(a)\n",
    "                marker_dict[a] = 1\n",
    "        clusters.append(cluster)\n",
    "print len(clusters)\n",
    "file = open(\"/Users/jfeng1/cluster_center.txt\",\"w\")\n",
    "for idx,c in enumerate(clusters):\n",
    "    print >>file, OEMolToSmiles(mols[c[0]]),mols[c[0]].GetTitle()\n",
    "file.close()\n",
    "\n",
    "\n",
    "ofs = oemolostream()\n",
    "ofs.open(\"/Users/jfeng1/clusters.sdf\")\n",
    "for idx,c in enumerate(clusters):\n",
    "    for x in c:\n",
    "        OESetSDData(mols[x],\"cluster_no\",\"%d\"%idx)\n",
    "        OESetSDData(mols[x],\"cluster_center\",\"0\")\n",
    "    OESetSDData(mols[c[0]],\"cluster_center\",\"1\")\n",
    "for mol in mols:\n",
    "    OEWriteMolecule(ofs,mol)\n",
    "ofs.close()"
   ]
  },
  {
   "cell_type": "code",
   "execution_count": null,
   "metadata": {},
   "outputs": [],
   "source": []
  }
 ],
 "metadata": {
  "kernelspec": {
   "display_name": "Python 2",
   "language": "python",
   "name": "python2"
  },
  "language_info": {
   "codemirror_mode": {
    "name": "ipython",
    "version": 2
   },
   "file_extension": ".py",
   "mimetype": "text/x-python",
   "name": "python",
   "nbconvert_exporter": "python",
   "pygments_lexer": "ipython2",
   "version": "2.7.6"
  }
 },
 "nbformat": 4,
 "nbformat_minor": 0
}
