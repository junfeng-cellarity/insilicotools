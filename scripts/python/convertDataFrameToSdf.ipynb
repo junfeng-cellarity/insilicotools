{
 "cells": [
  {
   "cell_type": "code",
   "execution_count": 1,
   "metadata": {
    "collapsed": true
   },
   "outputs": [],
   "source": [
    "import pandas\n",
    "df = pandas.read_pickle(\"/Users/jfeng1/biogen_addon.pkl\")\n",
    "from openeye.oechem import *\n",
    "input_table = df\n",
    "ofs = oemolostream()\n",
    "ofs.open(\"/Users/jfeng1/biogen_addon.sdf\")\n",
    "for idx in input_table.index:\n",
    "    obj = input_table.ix[idx]\n",
    "    molfile = obj[\"MOLVALUE\"]\n",
    "    name = obj[\"BIONUMBER\"]\n",
    "    mol = OEGraphMol()\n",
    "    ifs = oemolistream()\n",
    "    ifs.SetFormat(OEFormat_SDF)\n",
    "    ifs.openstring(molfile)\n",
    "    OEReadMolecule(ifs,mol)\n",
    "    ifs.close()\n",
    "    mol.SetTitle(name)\n",
    "    OESetSDData(mol,\"BIO Number\",name)\n",
    "    OESetSDData(mol,\"Concat Distinct;Project\",\"Unknown\")\n",
    "    OEWriteMolecule(ofs,mol)\n",
    "ofs.close()"
   ]
  },
  {
   "cell_type": "code",
   "execution_count": null,
   "metadata": {},
   "outputs": [],
   "source": [
    ""
   ]
  }
 ],
 "metadata": {
  "kernelspec": {
   "display_name": "Python 2",
   "language": "python",
   "name": "python2"
  },
  "language_info": {
   "codemirror_mode": {
    "name": "ipython",
    "version": 2
   },
   "file_extension": ".py",
   "mimetype": "text/x-python",
   "name": "python",
   "nbconvert_exporter": "python",
   "pygments_lexer": "ipython2",
   "version": "2.7.6"
  }
 },
 "nbformat": 4,
 "nbformat_minor": 0
}
