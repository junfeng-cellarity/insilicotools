{
 "cells": [
  {
   "cell_type": "code",
   "execution_count": 26,
   "metadata": {
    "collapsed": true
   },
   "outputs": [],
   "source": [
    "import csv\n",
    "import pandas as pd\n",
    "csv_file = \"/Users/junfeng/Datasets/HTS/diverse_pick_by_cluster.csv\"\n",
    "\n",
    "reader = csv.DictReader(open(csv_file,\"r\"))\n",
    "df = pd.DataFrame(reader)\n",
    "index = df.groupby(['CoreNameCurated'])['EON_ET_combo'].transform(max)==df['EON_ET_combo']\n",
    "selected_df = df[index]\n",
    "my_df = selected_df[['CoreNameCurated','Molecule Name','EON_ET_combo']]\n",
    "my_df = my_df.sort_values(by=['EON_ET_combo'],ascending=False)\n",
    "my_df\n",
    "my_df.to_csv(\"/Users/junfeng/Datasets/HTS/diverse_pick.csv\")"
   ]
  }
 ],
 "metadata": {
  "kernelspec": {
   "display_name": "Python 3",
   "language": "python",
   "name": "python3"
  },
  "language_info": {
   "codemirror_mode": {
    "name": "ipython",
    "version": 2
   },
   "file_extension": ".py",
   "mimetype": "text/x-python",
   "name": "python",
   "nbconvert_exporter": "python",
   "pygments_lexer": "ipython2",
   "version": "2.7.6"
  }
 },
 "nbformat": 4,
 "nbformat_minor": 0
}