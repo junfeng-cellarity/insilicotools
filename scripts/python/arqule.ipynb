{
 "cells": [
  {
   "cell_type": "code",
   "execution_count": 23,
   "metadata": {
    "collapsed": true
   },
   "outputs": [
    {
     "name": "stdout",
     "output_type": "stream",
     "text": [
      "OK\n"
     ]
    }
   ],
   "source": [
    "import os,sys\n",
    "print \"OK\"\n",
    "directory = \"/Users/jfeng1/Datasets/Arqule\"\n",
    "nameListFile = os.path.join(directory,\"list\")\n",
    "simiarityListFile = os.path.join(directory,\"result.txt\")\n",
    "nameList = open(nameListFile,\"r\").read().splitlines()\n",
    "similarityList = open(simiarityListFile,\"r\").read().split(\",\")\n",
    "finalList = []\n",
    "for idx,sim in enumerate(similarityList):\n",
    "    finalList.append((nameList[idx],float(similarityList[idx])))\n",
    "sortedList = sorted(finalList,key=lambda member: member[1],reverse=True)\n",
    "goodList = []\n",
    "badList = []\n",
    "\n",
    "# for name,sim in sortedList:\n",
    "#     if sim < 0.8:\n",
    "#         continue\n",
    "#     else:\n",
    "#         goodList.append((name,sim))\n",
    "#         if len(goodList) == 200:\n",
    "#             break\n",
    "# sortedList.reverse()\n",
    "# for name,sim in sortedList:\n",
    "#     if sim < 0.5:\n",
    "#         badList.append((name,sim))\n",
    "#         if len(badList) == 200:\n",
    "#             break\n",
    "\n",
    "for name,sim in finalList:\n",
    "    if sim>=0.7:\n",
    "        goodList.append((name,sim))\n",
    "    else:\n",
    "        badList.append((name,sim))\n",
    "        \n",
    "goodListFile = open(os.path.join(directory,\"similarity_biggerthan_0.7.txt\"),\"w\")\n",
    "for a in goodList:\n",
    "    print >> goodListFile,a[0],a[1]\n",
    "goodListFile.close()\n",
    "\n",
    "badListFile = open(os.path.join(directory,\"similarity_lowerthan_0.7.txt\"),\"w\")\n",
    "for b in badList:\n",
    "    print >> badListFile,b[0],b[1]\n",
    "badListFile.close()\n",
    "\n",
    "\n",
    "    \n",
    "\n",
    "# print goodList,len(goodList)\n",
    "# print badList,len(badList)"
   ]
  },
  {
   "cell_type": "code",
   "execution_count": 2,
   "metadata": {},
   "outputs": [
    {
     "ename": "NameError",
     "evalue": "name 'os' is not defined",
     "traceback": [
      "\u001b[0;31m\u001b[0m",
      "\u001b[0;31mNameError\u001b[0mTraceback (most recent call last)",
      "\u001b[0;32m<ipython-input-2-98078085ed8c>\u001b[0m in \u001b[0;36m<module>\u001b[0;34m()\u001b[0m\n\u001b[1;32m      1\u001b[0m \u001b[0;32mfrom\u001b[0m \u001b[0mopeneye\u001b[0m\u001b[0;34m.\u001b[0m\u001b[0moechem\u001b[0m \u001b[0;32mimport\u001b[0m \u001b[0;34m*\u001b[0m\u001b[0;34m\u001b[0m\u001b[0m\n\u001b[0;32m----> 2\u001b[0;31m \u001b[0msim_file\u001b[0m \u001b[0;34m=\u001b[0m \u001b[0mos\u001b[0m\u001b[0;34m.\u001b[0m\u001b[0mpath\u001b[0m\u001b[0;34m.\u001b[0m\u001b[0mjoin\u001b[0m\u001b[0;34m(\u001b[0m\u001b[0mdirectory\u001b[0m\u001b[0;34m,\u001b[0m\u001b[0;34m\"arqule.txt\"\u001b[0m\u001b[0;34m)\u001b[0m\u001b[0;34m\u001b[0m\u001b[0m\n\u001b[0m\u001b[1;32m      3\u001b[0m \u001b[0mpatent_sdf\u001b[0m \u001b[0;34m=\u001b[0m \u001b[0mos\u001b[0m\u001b[0;34m.\u001b[0m\u001b[0mpath\u001b[0m\u001b[0;34m.\u001b[0m\u001b[0mjoin\u001b[0m\u001b[0;34m(\u001b[0m\u001b[0mdirectory\u001b[0m\u001b[0;34m,\u001b[0m\u001b[0;34m\"arqule_gvk.sdf\"\u001b[0m\u001b[0;34m)\u001b[0m\u001b[0;34m\u001b[0m\u001b[0m\n\u001b[1;32m      4\u001b[0m \u001b[0mifs\u001b[0m \u001b[0;34m=\u001b[0m \u001b[0moemolistream\u001b[0m\u001b[0;34m(\u001b[0m\u001b[0;34m)\u001b[0m\u001b[0;34m\u001b[0m\u001b[0m\n\u001b[1;32m      5\u001b[0m \u001b[0mifs\u001b[0m\u001b[0;34m.\u001b[0m\u001b[0mopen\u001b[0m\u001b[0;34m(\u001b[0m\u001b[0mpatent_sdf\u001b[0m\u001b[0;34m)\u001b[0m\u001b[0;34m\u001b[0m\u001b[0m\n",
      "\u001b[0;31mNameError\u001b[0m: name 'os' is not defined"
     ],
     "output_type": "error"
    }
   ],
   "source": [
    "from openeye.oechem import *\n",
    "sim_file = os.path.join(directory,\"arqule.txt\")\n",
    "patent_sdf = os.path.join(directory,\"arqule_gvk.sdf\")\n",
    "ifs = oemolistream()\n",
    "ifs.open(patent_sdf)\n",
    "mol = OEGraphMol()\n",
    "molList = []\n",
    "while OEReadMolecule(ifs,mol):\n",
    "    molList.append(OEGraphMol(mol))\n",
    "ifs.close()\n",
    "simList = []\n",
    "for v in open(sim_file,\"r\").read().splitlines():\n",
    "    simList.append(float(v))\n",
    "mol_pairs = zip(molList,simList)\n",
    "ofs = oemolostream()\n",
    "ofs.open(os.path.join(directory,\"arqule_gvk_sim.sdf\"))\n",
    "for mol,sim in mol_pairs:\n",
    "    OESetSDData(mol,\"tanimoto\",\"%5.2f\"%sim)\n",
    "    OEWriteMolecule(ofs,mol)\n",
    "ofs.close()"
   ]
  },
  {
   "cell_type": "code",
   "execution_count": 7,
   "metadata": {},
   "outputs": [],
   "source": [
    "import numpy as np\n",
    "import matplotlib.mlab as mlab\n",
    "import matplotlib.pyplot as plt\n",
    "\n",
    "dataStr = open(\"/Users/jfeng1/result.txt\",\"r\").read()\n",
    "final_result = []\n",
    "for a in dataStr.split(\",\"):\n",
    "    final_result.append(float(a))\n",
    "\n",
    "stddev = np.std(np.array(final_result))\n",
    "mean = np.mean(np.array(final_result))\n",
    "n, bins, patches = plt.hist(np.array(final_result),20, normed=True, facecolor='green', alpha=0.5)\n",
    "y = mlab.normpdf(bins, mean, stddev)\n",
    "plt.plot(bins, y, 'r--')\n",
    "plt.xlabel('Tanimoto')\n",
    "plt.ylabel('Probability')\n",
    "plt.title('Histogram of Similarity Distribution:')\n",
    "#plt.show()\n",
    "plt.savefig(\"test.png\")"
   ]
  },
  {
   "cell_type": "code",
   "execution_count": null,
   "metadata": {},
   "outputs": [],
   "source": [
    ""
   ]
  }
 ],
 "metadata": {
  "kernelspec": {
   "display_name": "Python 2",
   "language": "python",
   "name": "python2"
  },
  "language_info": {
   "codemirror_mode": {
    "name": "ipython",
    "version": 2
   },
   "file_extension": ".py",
   "mimetype": "text/x-python",
   "name": "python",
   "nbconvert_exporter": "python",
   "pygments_lexer": "ipython2",
   "version": "2.7.6"
  }
 },
 "nbformat": 4,
 "nbformat_minor": 0
}
