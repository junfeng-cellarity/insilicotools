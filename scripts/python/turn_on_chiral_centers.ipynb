{
 "cells": [
  {
   "cell_type": "code",
   "execution_count": 2,
   "metadata": {
    "collapsed": true
   },
   "outputs": [],
   "source": [
    "from openeye.oechem import *\n",
    "ifs = oemolistream()\n",
    "ifs.open(\"/Users/jfeng1/forSam/test.sdf\")\n",
    "ofs = oemolostream()\n",
    "ofs.open(\"/Users/jfeng1/forSam/test_out.sdf\")\n",
    "mol = OEGraphMol()\n",
    "while OEReadMolecule(ifs,mol):\n",
    "    OEMDLSetParity(mol,True)\n",
    "    OEWriteMolecule(ofs,mol)\n",
    "ifs.close()\n",
    "ofs.close()"
   ]
  },
  {
   "cell_type": "code",
   "execution_count": 2,
   "metadata": {},
   "outputs": [],
   "source": [
    ""
   ]
  },
  {
   "cell_type": "code",
   "execution_count": null,
   "metadata": {},
   "outputs": [],
   "source": [
    ""
   ]
  }
 ],
 "metadata": {
  "kernelspec": {
   "display_name": "Python 2",
   "language": "python",
   "name": "python2"
  },
  "language_info": {
   "codemirror_mode": {
    "name": "ipython",
    "version": 2
   },
   "file_extension": ".py",
   "mimetype": "text/x-python",
   "name": "python",
   "nbconvert_exporter": "python",
   "pygments_lexer": "ipython2",
   "version": "2.7.6"
  }
 },
 "nbformat": 4,
 "nbformat_minor": 0
}
