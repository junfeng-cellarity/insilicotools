{
 "cells": [
  {
   "cell_type": "code",
   "execution_count": 1,
   "metadata": {
    "collapsed": true
   },
   "outputs": [
    {
     "name": "stdout",
     "output_type": "stream",
     "text": [
      "29\n"
     ]
    }
   ],
   "source": [
    "descriptors = ['2d PSA', 'CLogP', 'hydrogen-bond donors', 'VolSurf_WO1', 'VolSurf_WO2', 'VolSurf_WO4', 'VolSurf_CW7', 'VolSurf_PSA', 'VolSurf_%FU9', 'VolSurf_%FU10', 'VolSurf_WO5', 'VolSurf_LgD7.5', 'VolSurf_WO6', 'VolSurf_W6', 'VolSurf_W2', 'VolSurf_D5', 'VolSurf_D1', 'VolSurf_MetStab', 'VolSurf_LgD9', 'VolSurf_LgS10', 'VolSurf_LgD6', 'VolSurf_V', 'VolSurf_LgS3', 'VolSurf_CW5', 'VolSurf_CW2', 'VolSurf_L2LgS', 'VolSurf_LgD10', 'VolSurf_PB', 'VolSurf_WN2']\n",
    "print len(descriptors)"
   ]
  },
  {
   "cell_type": "code",
   "execution_count": null,
   "metadata": {},
   "outputs": [],
   "source": [
    ""
   ]
  }
 ],
 "metadata": {
  "kernelspec": {
   "display_name": "Python 2",
   "language": "python",
   "name": "python2"
  },
  "language_info": {
   "codemirror_mode": {
    "name": "ipython",
    "version": 2.0
   },
   "file_extension": ".py",
   "mimetype": "text/x-python",
   "name": "python",
   "nbconvert_exporter": "python",
   "pygments_lexer": "ipython2",
   "version": "2.7.6"
  }
 },
 "nbformat": 4,
 "nbformat_minor": 0
}